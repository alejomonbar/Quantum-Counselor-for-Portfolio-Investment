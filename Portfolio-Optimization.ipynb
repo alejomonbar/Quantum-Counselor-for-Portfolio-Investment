{
 "cells": [
  {
   "cell_type": "markdown",
   "metadata": {},
   "source": [
    "# Quantum Counselor for Portfolio Investment\n",
    "\n",
    "The Quantum Counselor for portfolio investment is a tool with two main objectives: forecasting the trend of assets price and optimizing portfolio returns both using quantum computing techniques. For the case of the forecasting method, we use a hybrid method that combines a deep learning model of classical LSTM layers with quantum layers. For the case of portfolio optimization, the quantum algorithms of QAOA and VQE are used to solve the problem and will be compared with CPLEX, a classical solver. Both tools are deeply connected because the forecasted price of the different assets is used for the cost function construction.\n",
    "\n",
    "# Outline\n",
    "\n",
    "1. Portfolio Optimization.\n",
    "\n",
    "\n",
    "2. Stocks Selection.\n",
    "\n",
    "\n",
    "3. Model XS (3 Stocks, 2 periods), QAOA and VQE with SPSA and COBYLA classical optimizers.\n",
    "\n",
    "\n",
    "4. Model S  (5 Stocks, 3 periods), QAOA and VQE with SPSA and COBYLA classical optimizers.\n",
    "\n",
    "\n",
    "5. Model M  (8 Stocks, 4 periods), QAOA and VQE with SPSA and COBYLA classical optimizers.\n",
    "\n",
    "\n",
    "6. Novel Approach\n",
    "\n",
    "\n",
    "7. References\n",
    "\n",
    "## 1. Portfolio optimization\n",
    "\n",
    "For portfolio optimization, we use the modern portfolio theory where we is wanted to maximize the return of an investment while keeping the risk of losing money low. We based or method in the work of Mugel et al. [<b>[1]<i>](https://doi.org/10.1103/PhysRevResearch.4.013006) where the cost function is described by:\n",
    "\n",
    "<center><img src=\"images/Cost-function.png\" width=\"800\"></center>\n",
    "\n",
    "\n",
    "Two main techniques:\n",
    "\n",
    "- Portfolio optimization using QAOA, VQE, and Cplex (for classical comparison).\n",
    "- Hybrid model to predict the stocks prices\n",
    "\n",
    "\n",
    "Here, it is found:\n",
    "\n",
    "- Apply the results of the Hybrid model of price prediction to optimize the portfolio.\n",
    "\n",
    "three scenarios XS (3 stocks, 2 periods), S (5 stocks, 3 periods), M (8, 4)\n",
    "\n",
    "The solution methods are QAOA, VQE (both in qasm_simulator and the power-up qiskit machine with 16 qubits for XS and S), CPLEX.\n",
    "Using SPSA and COBYLA as classic solvers for comparison and changing the number of repetitions in QAOA and the Ansatz in VQE.\n",
    "- Improving the model using the consideration, three possible actions for each stock, No invest, Medium investment, and High investment (I should use two-qubit for it and a restriction that qM(medium) + qH(high) < 1). Additionally, \n",
    "for the budget, restriction use the approach $t^2 - t$, additionally adding another risk parameter based on the uncertainity of the training stock variation prediction.\n",
    "\n",
    "Same cases that for XS and S"
   ]
  },
  {
   "cell_type": "code",
   "execution_count": 1,
   "metadata": {},
   "outputs": [],
   "source": [
    "from qiskit_finance.data_providers import RandomDataProvider\n",
    "import datetime\n",
    "import matplotlib.pyplot as plt\n",
    "import numpy as np\n",
    "from qiskit_finance.applications.optimization import PortfolioOptimization\n",
    "from qiskit import Aer\n",
    "from qiskit.algorithms import VQE, QAOA, NumPyMinimumEigensolver\n",
    "from qiskit.algorithms.optimizers import SLSQP\n",
    "from qiskit_optimization.algorithms import MinimumEigenOptimizer, CplexOptimizer \n",
    "from qiskit_optimization.converters import QuadraticProgramToQubo\n",
    "from qiskit import IBMQ\n",
    "from qiskit_optimization.runtime import QAOAClient, QAOAProgram\n",
    "from qiskit.algorithms.optimizers import SPSA, COBYLA\n",
    "from qiskit.circuit.library import TwoLocal\n",
    "import pandas as pd\n",
    "from qiskit.providers.basicaer import QasmSimulatorPy  # local simulator\n",
    "from qiskit.algorithms import VQE, QAOA\n",
    "\n",
    "import warnings\n",
    "warnings.filterwarnings('ignore')"
   ]
  },
  {
   "cell_type": "markdown",
   "metadata": {},
   "source": [
    "### Functions developed by the authors"
   ]
  },
  {
   "cell_type": "code",
   "execution_count": 2,
   "metadata": {},
   "outputs": [],
   "source": [
    "from functions import mu_fun, cov_matrix, portfolioOptimization, Optimization_QAOA, Optimization_VQE\n",
    "from functions import profits, transaction_costs"
   ]
  },
  {
   "cell_type": "markdown",
   "metadata": {},
   "source": [
    "<div class=\"alert alert-block alert-info\">\n",
    "User -> Who is solving the notebook?\n",
    "</div>"
   ]
  },
  {
   "cell_type": "code",
   "execution_count": 3,
   "metadata": {},
   "outputs": [
    {
     "name": "stdout",
     "output_type": "stream",
     "text": [
      "Alejandro\n"
     ]
    }
   ],
   "source": [
    "user = input()"
   ]
  },
  {
   "cell_type": "code",
   "execution_count": 4,
   "metadata": {},
   "outputs": [],
   "source": [
    "IBMQ.load_account()\n",
    "users = [\"Alejandro\", \"Alberto\"]\n",
    "if user == users[0]:\n",
    "    provider_7 = IBMQ.get_provider(hub='ibm-q-research', group='guanajuato-1',project='main')\n",
    "    backend_7 = provider_7.get_backend(\"ibmq_jakarta\")\n",
    "elif user == users[1]:\n",
    "    provider_7 = IBMQ.get_provider(hub=\"ibm-q-community\", group=\"qhack-hackathon\", project=\"7-qubit\")\n",
    "    provider_16 = IBMQ.get_provider(hub=\"ibm-q-community\", group=\"qhack-hackathon\", project=\"16-qubit\")\n",
    "    backend_7 = provider_7.get_backend(\"ibm_perth\")\n",
    "    backend_16 = provider_16.get_backend(\"ibmq_guadalupe\")"
   ]
  },
  {
   "cell_type": "markdown",
   "metadata": {},
   "source": [
    "# 2. Stocks Selection\n",
    "\n",
    "We select 8 stocks from 8 conglomerates based on the work from Xu et al. [<b>[2]<i>](https://aclanthology.org/P18-1183/): \n",
    "\n",
    "- Basic Materials: TOTAL S.A. \"TOT\"\n",
    "\n",
    "- Consumer Goods: Appel Inc. \"AAPL\"\n",
    "\n",
    "- Healthcare: AbbVie Inc. \"ABBV\"\n",
    "\n",
    "- Services: Wall-Mart Stores Inc. \"WMT\"\n",
    "\n",
    "- Utilites: Duke energy corporation \"DUK\"\n",
    "\n",
    "- Financial: HSBS Holding pcl \"HSBC\"\n",
    "\n",
    "- Industrial Goods: ABB Ltd. \"ABB\"\n",
    "\n",
    "- Technology: China Mobile Limited \"CHL\"\n",
    "\n",
    "The information comes from Sep 2012 to Sep 2017 with daily Technical information of Open, High, Low, Close, Adj Close, and Volume for the stocks price. "
   ]
  },
  {
   "cell_type": "code",
   "execution_count": 5,
   "metadata": {},
   "outputs": [],
   "source": [
    "stocks_name = [\"AAPL\",\"ABB\", \"ABBV\",\"CHL\", \"DUK\", \"HSBC\", \"TOT\", \"WMT\"]\n",
    "stocks = {}\n",
    "for name in stocks_name:\n",
    "    stocks[name] = np.array(pd.read_csv(f\"./Data/Stocks/{name}.csv\")[\"Close\"])"
   ]
  },
  {
   "cell_type": "code",
   "execution_count": 6,
   "metadata": {},
   "outputs": [
    {
     "data": {
      "text/html": [
       "<div>\n",
       "<style scoped>\n",
       "    .dataframe tbody tr th:only-of-type {\n",
       "        vertical-align: middle;\n",
       "    }\n",
       "\n",
       "    .dataframe tbody tr th {\n",
       "        vertical-align: top;\n",
       "    }\n",
       "\n",
       "    .dataframe thead th {\n",
       "        text-align: right;\n",
       "    }\n",
       "</style>\n",
       "<table border=\"1\" class=\"dataframe\">\n",
       "  <thead>\n",
       "    <tr style=\"text-align: right;\">\n",
       "      <th></th>\n",
       "      <th>Date</th>\n",
       "      <th>Open</th>\n",
       "      <th>High</th>\n",
       "      <th>Low</th>\n",
       "      <th>Close</th>\n",
       "      <th>Adj Close</th>\n",
       "      <th>Volume</th>\n",
       "    </tr>\n",
       "  </thead>\n",
       "  <tbody>\n",
       "    <tr>\n",
       "      <th>0</th>\n",
       "      <td>2012-09-04</td>\n",
       "      <td>95.108574</td>\n",
       "      <td>96.448570</td>\n",
       "      <td>94.928574</td>\n",
       "      <td>96.424286</td>\n",
       "      <td>87.121140</td>\n",
       "      <td>91973000</td>\n",
       "    </tr>\n",
       "    <tr>\n",
       "      <th>1</th>\n",
       "      <td>2012-09-05</td>\n",
       "      <td>96.510002</td>\n",
       "      <td>96.621429</td>\n",
       "      <td>95.657143</td>\n",
       "      <td>95.747147</td>\n",
       "      <td>86.509338</td>\n",
       "      <td>84093800</td>\n",
       "    </tr>\n",
       "    <tr>\n",
       "      <th>2</th>\n",
       "      <td>2012-09-06</td>\n",
       "      <td>96.167145</td>\n",
       "      <td>96.898575</td>\n",
       "      <td>95.828575</td>\n",
       "      <td>96.610001</td>\n",
       "      <td>87.288956</td>\n",
       "      <td>97799100</td>\n",
       "    </tr>\n",
       "    <tr>\n",
       "      <th>3</th>\n",
       "      <td>2012-09-07</td>\n",
       "      <td>96.864288</td>\n",
       "      <td>97.497147</td>\n",
       "      <td>96.538574</td>\n",
       "      <td>97.205711</td>\n",
       "      <td>87.827171</td>\n",
       "      <td>82416600</td>\n",
       "    </tr>\n",
       "    <tr>\n",
       "      <th>4</th>\n",
       "      <td>2012-09-10</td>\n",
       "      <td>97.207146</td>\n",
       "      <td>97.612854</td>\n",
       "      <td>94.585716</td>\n",
       "      <td>94.677139</td>\n",
       "      <td>85.542564</td>\n",
       "      <td>121999500</td>\n",
       "    </tr>\n",
       "    <tr>\n",
       "      <th>...</th>\n",
       "      <td>...</td>\n",
       "      <td>...</td>\n",
       "      <td>...</td>\n",
       "      <td>...</td>\n",
       "      <td>...</td>\n",
       "      <td>...</td>\n",
       "      <td>...</td>\n",
       "    </tr>\n",
       "    <tr>\n",
       "      <th>1253</th>\n",
       "      <td>2017-08-28</td>\n",
       "      <td>160.139999</td>\n",
       "      <td>162.000000</td>\n",
       "      <td>159.929993</td>\n",
       "      <td>161.470001</td>\n",
       "      <td>161.470001</td>\n",
       "      <td>25966000</td>\n",
       "    </tr>\n",
       "    <tr>\n",
       "      <th>1254</th>\n",
       "      <td>2017-08-29</td>\n",
       "      <td>160.100006</td>\n",
       "      <td>163.119995</td>\n",
       "      <td>160.000000</td>\n",
       "      <td>162.910004</td>\n",
       "      <td>162.910004</td>\n",
       "      <td>29516900</td>\n",
       "    </tr>\n",
       "    <tr>\n",
       "      <th>1255</th>\n",
       "      <td>2017-08-30</td>\n",
       "      <td>163.800003</td>\n",
       "      <td>163.889999</td>\n",
       "      <td>162.610001</td>\n",
       "      <td>163.350006</td>\n",
       "      <td>163.350006</td>\n",
       "      <td>27269600</td>\n",
       "    </tr>\n",
       "    <tr>\n",
       "      <th>1256</th>\n",
       "      <td>2017-08-31</td>\n",
       "      <td>163.639999</td>\n",
       "      <td>164.520004</td>\n",
       "      <td>163.479996</td>\n",
       "      <td>164.000000</td>\n",
       "      <td>164.000000</td>\n",
       "      <td>26785100</td>\n",
       "    </tr>\n",
       "    <tr>\n",
       "      <th>1257</th>\n",
       "      <td>2017-09-01</td>\n",
       "      <td>164.800003</td>\n",
       "      <td>164.940002</td>\n",
       "      <td>163.630005</td>\n",
       "      <td>164.050003</td>\n",
       "      <td>164.050003</td>\n",
       "      <td>16552800</td>\n",
       "    </tr>\n",
       "  </tbody>\n",
       "</table>\n",
       "<p>1258 rows × 7 columns</p>\n",
       "</div>"
      ],
      "text/plain": [
       "            Date        Open        High         Low       Close   Adj Close  \\\n",
       "0     2012-09-04   95.108574   96.448570   94.928574   96.424286   87.121140   \n",
       "1     2012-09-05   96.510002   96.621429   95.657143   95.747147   86.509338   \n",
       "2     2012-09-06   96.167145   96.898575   95.828575   96.610001   87.288956   \n",
       "3     2012-09-07   96.864288   97.497147   96.538574   97.205711   87.827171   \n",
       "4     2012-09-10   97.207146   97.612854   94.585716   94.677139   85.542564   \n",
       "...          ...         ...         ...         ...         ...         ...   \n",
       "1253  2017-08-28  160.139999  162.000000  159.929993  161.470001  161.470001   \n",
       "1254  2017-08-29  160.100006  163.119995  160.000000  162.910004  162.910004   \n",
       "1255  2017-08-30  163.800003  163.889999  162.610001  163.350006  163.350006   \n",
       "1256  2017-08-31  163.639999  164.520004  163.479996  164.000000  164.000000   \n",
       "1257  2017-09-01  164.800003  164.940002  163.630005  164.050003  164.050003   \n",
       "\n",
       "         Volume  \n",
       "0      91973000  \n",
       "1      84093800  \n",
       "2      97799100  \n",
       "3      82416600  \n",
       "4     121999500  \n",
       "...         ...  \n",
       "1253   25966000  \n",
       "1254   29516900  \n",
       "1255   27269600  \n",
       "1256   26785100  \n",
       "1257   16552800  \n",
       "\n",
       "[1258 rows x 7 columns]"
      ]
     },
     "execution_count": 6,
     "metadata": {},
     "output_type": "execute_result"
    }
   ],
   "source": [
    "pd.read_csv(f\"./Data/Stocks/AAPL.csv\")"
   ]
  },
  {
   "cell_type": "code",
   "execution_count": 7,
   "metadata": {},
   "outputs": [
    {
     "data": {
      "image/png": "[encoded data removed]",
      "text/plain": [
       "<Figure size 1080x360 with 1 Axes>"
      ]
     },
     "metadata": {
      "needs_background": "light"
     },
     "output_type": "display_data"
    }
   ],
   "source": [
    "plt.figure(figsize=(15,5))\n",
    "for i, name in enumerate(stocks_name):\n",
    "    plt.plot(stocks[name], label=stocks_name[i])\n",
    "plt.xlabel(\"days\")\n",
    "plt.ylabel(\"Stock Price [$]\")\n",
    "plt.legend()\n",
    "plt.grid()"
   ]
  },
  {
   "cell_type": "markdown",
   "metadata": {},
   "source": [
    "# 3. Optimization Model - XS\n",
    "\n",
    "The XS model consists of \n",
    "\n",
    "- 3 assets \"AAPL\", \"ABB\", and \"ABBV\".\n",
    "- 2 periods of time of 30 days. \n",
    "- Holding period of 30 days. \n",
    "- Maximum inversion per asset of 50% of the total budget."
   ]
  },
  {
   "cell_type": "code",
   "execution_count": 8,
   "metadata": {},
   "outputs": [],
   "source": [
    "xs = {}"
   ]
  },
  {
   "cell_type": "code",
   "execution_count": 9,
   "metadata": {},
   "outputs": [],
   "source": [
    "# Set parameters for assets and risk factor\n",
    "xs[\"num_assets\"] = 3 # set number of assets\n",
    "xs[\"gamma\"] = 0.5   # risk aversion to 0.5\n",
    "xs[\"lambda\"] = 0.001 # Transaction Cost\n",
    "xs[\"holding_period\"] = 30 # Days of keeping the assets\n",
    "xs[\"periods\"] = 2\n",
    "xs[\"max_investment\"] = np.array([0.5, 0.5, 0.5]) # Maximum investment per asset of the total budget\n",
    "xs[\"assets\"] = [\"AAPL\", \"ABB\", \"ABBV\"]\n",
    "xs[\"rho\"] = 5 # Lagrange multiplier for the budget constraint \n",
    "\n",
    "xs[\"data\"] = [stocks[name] for name in xs[\"assets\"]]\n",
    "\n",
    "xs[\"mu\"] = mu_fun(xs[\"data\"], xs[\"holding_period\"])[-xs[\"periods\"]:]\n",
    "xs[\"sigma\"] = cov_matrix(xs[\"data\"], xs[\"holding_period\"])\n",
    "xs[\"qp\"] = portfolioOptimization(xs[\"mu\"], xs[\"sigma\"][-xs[\"periods\"]:], xs[\"gamma\"],\n",
    "                           xs[\"max_investment\"], xs[\"lambda\"], xs[\"rho\"])\n",
    "# Create a converter from quadratic program to quadratic unconstrained binary optimization (QUBO) representation\n",
    "xs[\"qubo\"] = QuadraticProgramToQubo().convert(xs[\"qp\"])"
   ]
  },
  {
   "cell_type": "code",
   "execution_count": 10,
   "metadata": {},
   "outputs": [
    {
     "data": {
      "text/plain": [
       "\\ This file has been generated by DOcplex\n",
       "\\ ENCODING=ISO-8859-1\n",
       "\\Problem name: portfolioOptimization\n",
       "\n",
       "Minimize\n",
       " obj: - 5.043014317244 w0_0 - 4.992270380226 w0_1 - 5.048171307303 w0_2\n",
       "      - 5.023465215684 w1_0 - 5.028193441415 w1_1 - 4.997081992669 w1_2 + [\n",
       "      2.501504322556 w0_0^2 + 5.000005058818 w0_0*w0_1\n",
       "      + 5.000001594047 w0_0*w0_2 - 0.001000000000 w0_0*w1_0\n",
       "      + 2.501513515800 w0_1^2 + 4.999999967271 w0_1*w0_2\n",
       "      - 0.001000000000 w0_1*w1_1 + 2.501506688896 w0_2^2\n",
       "      - 0.001000000000 w0_2*w1_2 + 2.500507758682 w1_0^2\n",
       "      + 5.000009701580 w1_0*w1_1 + 4.999995156160 w1_0*w1_2\n",
       "      + 2.500517070077 w1_1^2 + 4.999995360584 w1_1*w1_2 + 2.500511582019 w1_2^2\n",
       "      ]/2 + 10\n",
       "Subject To\n",
       "\n",
       "Bounds\n",
       " 0 <= w0_0 <= 1\n",
       " 0 <= w0_1 <= 1\n",
       " 0 <= w0_2 <= 1\n",
       " 0 <= w1_0 <= 1\n",
       " 0 <= w1_1 <= 1\n",
       " 0 <= w1_2 <= 1\n",
       "\n",
       "Binaries\n",
       " w0_0 w0_1 w0_2 w1_0 w1_1 w1_2\n",
       "End"
      ]
     },
     "execution_count": 10,
     "metadata": {},
     "output_type": "execute_result"
    }
   ],
   "source": [
    "xs[\"qubo\"]"
   ]
  },
  {
   "cell_type": "markdown",
   "metadata": {},
   "source": [
    "## 3.1 QAOA Solution using SPSA and COBYLA"
   ]
  },
  {
   "cell_type": "code",
   "execution_count": 11,
   "metadata": {},
   "outputs": [],
   "source": [
    "xs[\"QAOA\"] = {}"
   ]
  },
  {
   "cell_type": "code",
   "execution_count": 12,
   "metadata": {},
   "outputs": [],
   "source": [
    "xs[\"QAOA\"][\"SPSA\"] = Optimization_QAOA(xs[\"qubo\"], reps=1, optimizer=SPSA(maxiter=50), local=True)"
   ]
  },
  {
   "cell_type": "code",
   "execution_count": 13,
   "metadata": {},
   "outputs": [],
   "source": [
    "xs[\"QAOA\"][\"COBYLA\"] = Optimization_QAOA(xs[\"qubo\"], reps=1, optimizer=COBYLA(maxiter=50), local=True)"
   ]
  },
  {
   "cell_type": "markdown",
   "metadata": {},
   "source": [
    "<div id='problem'></div>\n",
    "<div class=\"alert alert-block alert-danger\">\n",
    "    \n",
    "**WARNING** Running the code below execute the problem on real hardware.\n",
    "</div>"
   ]
  },
  {
   "cell_type": "code",
   "execution_count": null,
   "metadata": {},
   "outputs": [],
   "source": [
    "xs[\"QAOA\"][\"Real-COBYLA\"] = Optimization_QAOA(xs[\"qubo\"], reps=1, optimizer=COBYLA(maxiter=5),\n",
    "                                                            provider=provider_7, backend=backend_7)"
   ]
  },
  {
   "cell_type": "markdown",
   "metadata": {},
   "source": [
    "## 3.2 VQE Solution using SPSA and SLSQP "
   ]
  },
  {
   "cell_type": "code",
   "execution_count": 15,
   "metadata": {},
   "outputs": [],
   "source": [
    "xs[\"VQE\"] = {}"
   ]
  },
  {
   "cell_type": "code",
   "execution_count": 16,
   "metadata": {},
   "outputs": [],
   "source": [
    "xs[\"ansatz\"] = TwoLocal(xs[\"qubo\"].get_num_vars(), rotation_blocks='ry', entanglement_blocks='cz')"
   ]
  },
  {
   "cell_type": "code",
   "execution_count": 17,
   "metadata": {},
   "outputs": [],
   "source": [
    "xs[\"VQE\"][\"COBYLA\"] = Optimization_VQE(xs[\"qubo\"], ansatz=xs[\"ansatz\"], optimizer=COBYLA(maxiter=50), local=True)"
   ]
  },
  {
   "cell_type": "code",
   "execution_count": 18,
   "metadata": {},
   "outputs": [],
   "source": [
    "xs[\"VQE\"][\"SPSA\"] = Optimization_VQE(xs[\"qubo\"], ansatz=xs[\"ansatz\"], optimizer=SPSA(maxiter=50), local=True)"
   ]
  },
  {
   "cell_type": "markdown",
   "metadata": {},
   "source": [
    "<div id='problem'></div>\n",
    "<div class=\"alert alert-block alert-danger\">\n",
    "    \n",
    "**WARNING** Running the code below execute the problem on real hardware.\n",
    "</div>"
   ]
  },
  {
   "cell_type": "code",
   "execution_count": null,
   "metadata": {},
   "outputs": [],
   "source": [
    "xs[\"VQE\"][\"Real-COBYLA\"] = Optimization_VQE(xs[\"qubo\"], ansatz=xs[\"ansatz\"], optimizer=COBYLA(maxiter=5),\n",
    "                                             provider=provider_7, backend=backend_7)"
   ]
  },
  {
   "cell_type": "markdown",
   "metadata": {},
   "source": [
    "## 3.3 Solution using CPLEX"
   ]
  },
  {
   "cell_type": "code",
   "execution_count": 19,
   "metadata": {},
   "outputs": [],
   "source": [
    "xs[\"CPLEX\"]= CplexOptimizer().solve(xs[\"qubo\"])"
   ]
  },
  {
   "cell_type": "markdown",
   "metadata": {},
   "source": [
    "## 3.4 Summary of model XS"
   ]
  },
  {
   "cell_type": "code",
   "execution_count": 20,
   "metadata": {},
   "outputs": [],
   "source": [
    "np.save(f\"./Data/{user}/xs.npy\", xs)\n",
    "\n",
    "#xs = np.load(f\"./Data/{user}/xs.npy\", allow_pickle=True).item()"
   ]
  },
  {
   "cell_type": "code",
   "execution_count": 21,
   "metadata": {},
   "outputs": [
    {
     "data": {
      "text/html": [
       "<div>\n",
       "<style scoped>\n",
       "    .dataframe tbody tr th:only-of-type {\n",
       "        vertical-align: middle;\n",
       "    }\n",
       "\n",
       "    .dataframe tbody tr th {\n",
       "        vertical-align: top;\n",
       "    }\n",
       "\n",
       "    .dataframe thead th {\n",
       "        text-align: right;\n",
       "    }\n",
       "</style>\n",
       "<table border=\"1\" class=\"dataframe\">\n",
       "  <thead>\n",
       "    <tr style=\"text-align: right;\">\n",
       "      <th></th>\n",
       "      <th>Method</th>\n",
       "      <th>Solver</th>\n",
       "      <th>Cost fun</th>\n",
       "      <th>Solution</th>\n",
       "      <th>Profit [%]</th>\n",
       "      <th>Transaction Cost [%]</th>\n",
       "    </tr>\n",
       "  </thead>\n",
       "  <tbody>\n",
       "    <tr>\n",
       "      <th>0</th>\n",
       "      <td>QAOA</td>\n",
       "      <td>SPSA</td>\n",
       "      <td>-0.141321</td>\n",
       "      <td>[[1.0, 0.0, 1.0], [1.0, 1.0, 0.0]]</td>\n",
       "      <td>[9.0, 5.1]</td>\n",
       "      <td>[0.1, 0.1]</td>\n",
       "    </tr>\n",
       "    <tr>\n",
       "      <th>1</th>\n",
       "      <td>QAOA</td>\n",
       "      <td>COBYLA</td>\n",
       "      <td>-0.141321</td>\n",
       "      <td>[[1.0, 0.0, 1.0], [1.0, 1.0, 0.0]]</td>\n",
       "      <td>[9.0, 5.1]</td>\n",
       "      <td>[0.1, 0.1]</td>\n",
       "    </tr>\n",
       "    <tr>\n",
       "      <th>2</th>\n",
       "      <td>VQE</td>\n",
       "      <td>COBYLA</td>\n",
       "      <td>-0.141321</td>\n",
       "      <td>[[1.0, 0.0, 1.0], [1.0, 1.0, 0.0]]</td>\n",
       "      <td>[9.0, 5.1]</td>\n",
       "      <td>[0.1, 0.1]</td>\n",
       "    </tr>\n",
       "    <tr>\n",
       "      <th>3</th>\n",
       "      <td>VQE</td>\n",
       "      <td>SPSA</td>\n",
       "      <td>-0.141321</td>\n",
       "      <td>[[1.0, 0.0, 1.0], [1.0, 1.0, 0.0]]</td>\n",
       "      <td>[9.0, 5.1]</td>\n",
       "      <td>[0.1, 0.1]</td>\n",
       "    </tr>\n",
       "    <tr>\n",
       "      <th>4</th>\n",
       "      <td>CPLEX</td>\n",
       "      <td></td>\n",
       "      <td>-0.141321</td>\n",
       "      <td>[[1.0, 0.0, 1.0], [1.0, 1.0, 0.0]]</td>\n",
       "      <td>[9.0, 5.1]</td>\n",
       "      <td>[0.1, 0.1]</td>\n",
       "    </tr>\n",
       "  </tbody>\n",
       "</table>\n",
       "</div>"
      ],
      "text/plain": [
       "  Method  Solver  Cost fun                            Solution  Profit [%]  \\\n",
       "0   QAOA    SPSA -0.141321  [[1.0, 0.0, 1.0], [1.0, 1.0, 0.0]]  [9.0, 5.1]   \n",
       "1   QAOA  COBYLA -0.141321  [[1.0, 0.0, 1.0], [1.0, 1.0, 0.0]]  [9.0, 5.1]   \n",
       "2    VQE  COBYLA -0.141321  [[1.0, 0.0, 1.0], [1.0, 1.0, 0.0]]  [9.0, 5.1]   \n",
       "3    VQE    SPSA -0.141321  [[1.0, 0.0, 1.0], [1.0, 1.0, 0.0]]  [9.0, 5.1]   \n",
       "4  CPLEX         -0.141321  [[1.0, 0.0, 1.0], [1.0, 1.0, 0.0]]  [9.0, 5.1]   \n",
       "\n",
       "  Transaction Cost [%]  \n",
       "0           [0.1, 0.1]  \n",
       "1           [0.1, 0.1]  \n",
       "2           [0.1, 0.1]  \n",
       "3           [0.1, 0.1]  \n",
       "4           [0.1, 0.1]  "
      ]
     },
     "execution_count": 21,
     "metadata": {},
     "output_type": "execute_result"
    }
   ],
   "source": [
    "method = [\"QAOA\", \"VQE\"]\n",
    "solver = [\"COBYLA\", \"SPSA\"]\n",
    "xs_sol = [xs[met][sol][0].x.reshape(xs[\"periods\"],-1) for met in method for sol in solver] + [xs[\"CPLEX\"].x.reshape(xs[\"periods\"],-1)]\n",
    "pd.DataFrame({\"Method\":[\"QAOA\",\"QAOA\", \"VQE\", \"VQE\", \"CPLEX\"],\n",
    "              \"Solver\":[\"SPSA\", \"COBYLA\",\"COBYLA\", \"SPSA\",\"\"],\n",
    "              \"Cost fun\":[xs[met][sol][0].fval for met in method for sol in solver] + [xs[\"CPLEX\"].fval],              \n",
    "              \"Solution\":xs_sol,\n",
    "              \"Profit [%]\":[np.round(100*profits(_, xs[\"mu\"], xs[\"lambda\"], xs[\"periods\"], xs[\"max_investment\"]), 1) for _ in xs_sol],\n",
    "              \"Transaction Cost [%]\":[100*transaction_costs(_, xs[\"lambda\"], xs[\"periods\"], xs[\"max_investment\"]) for _ in xs_sol]\n",
    "             })"
   ]
  },
  {
   "cell_type": "markdown",
   "metadata": {},
   "source": [
    "# 4. Optimization Model - S\n",
    "\n",
    "The model S consists of \n",
    "\n",
    "- 5 assets \"AAPL\", \"ABB\", \"ABBV\", \"CHL\", and \"DUK\".\n",
    "- 3 periods of time of 30 days. \n",
    "- Holding period of 30 days. \n",
    "- Maximum inversion per asset of 25% of the total budget."
   ]
  },
  {
   "cell_type": "code",
   "execution_count": 22,
   "metadata": {},
   "outputs": [],
   "source": [
    "s = {}"
   ]
  },
  {
   "cell_type": "code",
   "execution_count": 23,
   "metadata": {},
   "outputs": [],
   "source": [
    "# Set parameters for assets and risk factor\n",
    "s[\"num_assets\"] = 5 # set number of assets\n",
    "s[\"gamma\"] = 0.5   # risk aversion to 0.5\n",
    "s[\"lambda\"] = 0.001 # Transaction Cost\n",
    "s[\"holding_period\"] = 30 # Days of keeping the assets\n",
    "s[\"periods\"] = 3\n",
    "s[\"max_investment\"] = np.array([0.25, 0.25, 0.25, 0.25, 0.25]) # Maximum investment per asset of the total budget\n",
    "s[\"assets\"] = [\"AAPL\", \"ABB\", \"ABBV\",\"CHL\", \"DUK\"]\n",
    "s[\"rho\"] = 5 # Lagrange multiplier for the budget constraint \n",
    "\n",
    "s[\"data\"] = [stocks[name] for name in s[\"assets\"]]\n",
    "\n",
    "s[\"mu\"] = mu_fun(s[\"data\"], s[\"holding_period\"])[-s[\"periods\"]:]\n",
    "s[\"sigma\"] = cov_matrix(s[\"data\"], s[\"holding_period\"])\n",
    "s[\"qp\"] = portfolioOptimization(s[\"mu\"], s[\"sigma\"][-s[\"periods\"]:], s[\"gamma\"],\n",
    "                           s[\"max_investment\"], s[\"lambda\"], s[\"rho\"])\n",
    "# Create a converter from quadratic program to quadratic unconstrained binary optimization (QUBO) representation\n",
    "s[\"qubo\"] = QuadraticProgramToQubo().convert(s[\"qp\"])"
   ]
  },
  {
   "cell_type": "markdown",
   "metadata": {},
   "source": [
    "## 4.1 QAOA Solution using SPSA and COBYLA"
   ]
  },
  {
   "cell_type": "code",
   "execution_count": 24,
   "metadata": {},
   "outputs": [],
   "source": [
    "s[\"QAOA\"] = {}"
   ]
  },
  {
   "cell_type": "code",
   "execution_count": null,
   "metadata": {},
   "outputs": [],
   "source": [
    "s[\"QAOA\"][\"SPSA\"] = Optimization_QAOA(s[\"qubo\"], reps=1, optimizer=SPSA(maxiter=50), local=True)"
   ]
  },
  {
   "cell_type": "code",
   "execution_count": null,
   "metadata": {},
   "outputs": [],
   "source": [
    "s[\"QAOA\"][\"COBYLA\"] = Optimization_QAOA(s[\"qubo\"], reps=1, optimizer=COBYLA(maxiter=50), local=True)"
   ]
  },
  {
   "cell_type": "markdown",
   "metadata": {},
   "source": [
    "<div id='problem'></div>\n",
    "<div class=\"alert alert-block alert-danger\">\n",
    "    \n",
    "**WARNING** Running the code below executes the problem on real hardware only available for Alberto\n",
    "</div> "
   ]
  },
  {
   "cell_type": "code",
   "execution_count": null,
   "metadata": {},
   "outputs": [],
   "source": [
    "s[\"QAOA\"][\"Real-COBYLA\"] = Optimization_QAOA(s[\"qubo\"], reps=1, optimizer=COBYLA(maxiter=50), backend=backend_16,\n",
    "                                            provider=provider_16)"
   ]
  },
  {
   "cell_type": "markdown",
   "metadata": {},
   "source": [
    "## 4.2 VQE Solution using SPSA and COBYLA"
   ]
  },
  {
   "cell_type": "code",
   "execution_count": 55,
   "metadata": {},
   "outputs": [],
   "source": [
    "s[\"VQE\"] = {}\n",
    "s[\"ansatz\"] = TwoLocal(s[\"qubo\"].get_num_vars(), rotation_blocks='ry', entanglement_blocks='cz')"
   ]
  },
  {
   "cell_type": "code",
   "execution_count": 56,
   "metadata": {},
   "outputs": [],
   "source": [
    "s[\"VQE\"][\"COBYLA\"] = Optimization_VQE(s[\"qubo\"], ansatz=s[\"ansatz\"], optimizer=COBYLA(maxiter=50), local=True)"
   ]
  },
  {
   "cell_type": "code",
   "execution_count": 57,
   "metadata": {},
   "outputs": [],
   "source": [
    "s[\"VQE\"][\"SPSA\"] = Optimization_VQE(s[\"qubo\"], ansatz=s[\"ansatz\"], optimizer=SPSA(maxiter=50), local=True)"
   ]
  },
  {
   "cell_type": "markdown",
   "metadata": {},
   "source": [
    "<div id='problem'></div>\n",
    "<div class=\"alert alert-block alert-danger\">\n",
    "    \n",
    "**WARNING** Running the code below executes the problem on real hardware only available for Alberto\n",
    "</div> "
   ]
  },
  {
   "cell_type": "code",
   "execution_count": null,
   "metadata": {},
   "outputs": [],
   "source": [
    "s[\"Real-VQE\"][\"SPSA\"] = Optimization_VQE(s[\"qubo\"], ansatz=s[\"ansatz\"], optimizer=COBYLA(maxiter=50), backend=backend_16,\n",
    "                                            provider=provider_16)"
   ]
  },
  {
   "cell_type": "markdown",
   "metadata": {},
   "source": [
    "## 4.3 Solution using CPLEX"
   ]
  },
  {
   "cell_type": "code",
   "execution_count": 74,
   "metadata": {},
   "outputs": [],
   "source": [
    "s[\"CPLEX\"]= CplexOptimizer().solve(s[\"qubo\"])"
   ]
  },
  {
   "cell_type": "markdown",
   "metadata": {},
   "source": [
    "## 4.4 Summary of model S\n"
   ]
  },
  {
   "cell_type": "code",
   "execution_count": null,
   "metadata": {},
   "outputs": [],
   "source": [
    "np.save(f\"./Data/{user}/s.npy\", s)\n",
    "\n",
    "#s = np.load(f\"./Data/{user}/s.npy\", allow_pickle=True).item()"
   ]
  },
  {
   "cell_type": "code",
   "execution_count": 79,
   "metadata": {
    "scrolled": true
   },
   "outputs": [
    {
     "data": {
      "text/html": [
       "<div>\n",
       "<style scoped>\n",
       "    .dataframe tbody tr th:only-of-type {\n",
       "        vertical-align: middle;\n",
       "    }\n",
       "\n",
       "    .dataframe tbody tr th {\n",
       "        vertical-align: top;\n",
       "    }\n",
       "\n",
       "    .dataframe thead th {\n",
       "        text-align: right;\n",
       "    }\n",
       "</style>\n",
       "<table border=\"1\" class=\"dataframe\">\n",
       "  <thead>\n",
       "    <tr style=\"text-align: right;\">\n",
       "      <th></th>\n",
       "      <th>Method</th>\n",
       "      <th>Solver</th>\n",
       "      <th>Cost fun</th>\n",
       "      <th>Solution</th>\n",
       "      <th>Profit [%]</th>\n",
       "      <th>Transaction Cost [%]</th>\n",
       "    </tr>\n",
       "  </thead>\n",
       "  <tbody>\n",
       "    <tr>\n",
       "      <th>0</th>\n",
       "      <td>QAOA</td>\n",
       "      <td>SPSA</td>\n",
       "      <td>-0.164779</td>\n",
       "      <td>[[1, 1, 1, 1, 0], [1, 0, 1, 1, 1], [1, 1, 1, 0...</td>\n",
       "      <td>[8.4, 5.6, 2.5]</td>\n",
       "      <td>[0.1, 0.05, 0.05]</td>\n",
       "    </tr>\n",
       "    <tr>\n",
       "      <th>1</th>\n",
       "      <td>QAOA</td>\n",
       "      <td>COBYLA</td>\n",
       "      <td>-0.156317</td>\n",
       "      <td>[[1, 1, 0, 1, 1], [1, 1, 1, 0, 1], [1, 1, 1, 0...</td>\n",
       "      <td>[7.7, 5.4, 2.5]</td>\n",
       "      <td>[0.1, 0.05, 0.0]</td>\n",
       "    </tr>\n",
       "    <tr>\n",
       "      <th>2</th>\n",
       "      <td>VQE</td>\n",
       "      <td>COBYLA</td>\n",
       "      <td>-0.156317</td>\n",
       "      <td>[[1, 1, 0, 1, 1], [1, 1, 1, 0, 1], [1, 1, 1, 0...</td>\n",
       "      <td>[7.7, 5.4, 2.5]</td>\n",
       "      <td>[0.1, 0.05, 0.0]</td>\n",
       "    </tr>\n",
       "    <tr>\n",
       "      <th>3</th>\n",
       "      <td>VQE</td>\n",
       "      <td>SPSA</td>\n",
       "      <td>-0.145200</td>\n",
       "      <td>[[1, 1, 1, 0, 1], [1, 0, 1, 1, 1], [1, 1, 1, 0...</td>\n",
       "      <td>[6.4, 5.6, 2.5]</td>\n",
       "      <td>[0.1, 0.05, 0.05]</td>\n",
       "    </tr>\n",
       "    <tr>\n",
       "      <th>4</th>\n",
       "      <td>CPLEX</td>\n",
       "      <td></td>\n",
       "      <td>-0.164779</td>\n",
       "      <td>[[1, 1, 1, 1, 0], [1, 0, 1, 1, 1], [1, 1, 1, 0...</td>\n",
       "      <td>[8.4, 5.6, 2.5]</td>\n",
       "      <td>[0.1, 0.05, 0.05]</td>\n",
       "    </tr>\n",
       "  </tbody>\n",
       "</table>\n",
       "</div>"
      ],
      "text/plain": [
       "  Method  Solver  Cost fun                                           Solution       Profit [%] Transaction Cost [%]\n",
       "0   QAOA    SPSA -0.164779  [[1, 1, 1, 1, 0], [1, 0, 1, 1, 1], [1, 1, 1, 0...  [8.4, 5.6, 2.5]    [0.1, 0.05, 0.05]\n",
       "1   QAOA  COBYLA -0.156317  [[1, 1, 0, 1, 1], [1, 1, 1, 0, 1], [1, 1, 1, 0...  [7.7, 5.4, 2.5]     [0.1, 0.05, 0.0]\n",
       "2    VQE  COBYLA -0.156317  [[1, 1, 0, 1, 1], [1, 1, 1, 0, 1], [1, 1, 1, 0...  [7.7, 5.4, 2.5]     [0.1, 0.05, 0.0]\n",
       "3    VQE    SPSA -0.145200  [[1, 1, 1, 0, 1], [1, 0, 1, 1, 1], [1, 1, 1, 0...  [6.4, 5.6, 2.5]    [0.1, 0.05, 0.05]\n",
       "4  CPLEX         -0.164779  [[1, 1, 1, 1, 0], [1, 0, 1, 1, 1], [1, 1, 1, 0...  [8.4, 5.6, 2.5]    [0.1, 0.05, 0.05]"
      ]
     },
     "execution_count": 79,
     "metadata": {},
     "output_type": "execute_result"
    }
   ],
   "source": [
    "method = [\"QAOA\", \"VQE\"]\n",
    "solver = [\"COBYLA\", \"SPSA\"]\n",
    "s_sol = [s[met][sol][0].x.reshape(s[\"periods\"],-1).astype(int) for met in method for sol in solver] + [(s[\"CPLEX\"].x+0.01).reshape(s[\"periods\"],-1).astype(int)]\n",
    "pd.DataFrame({\"Method\":[\"QAOA\",\"QAOA\", \"VQE\", \"VQE\", \"CPLEX\"],\n",
    "              \"Solver\":[\"SPSA\", \"COBYLA\",\"COBYLA\", \"SPSA\",\"\"],\n",
    "              \"Cost fun\":[s[met][sol][0].fval for met in method for sol in solver] + [s[\"CPLEX\"].fval],              \n",
    "              \"Solution\":s_sol,\n",
    "              \"Profit [%]\":[np.round(100*profits(_, s[\"mu\"], s[\"lambda\"], s[\"periods\"], s[\"max_investment\"]), 1) for _ in s_sol],\n",
    "              \"Transaction Cost [%]\":[100*transaction_costs(_, s[\"lambda\"], s[\"periods\"], s[\"max_investment\"]) for _ in s_sol]\n",
    "             })"
   ]
  },
  {
   "cell_type": "markdown",
   "metadata": {},
   "source": [
    "# 5. Optimization Model - M\n",
    "\n",
    "The model M consists of \n",
    "\n",
    "- 8 assets \"AAPL\", \"ABB\", \"ABBV\", \"CHL\", \"DUK\", \"HSBC\", \"TOT\", and \"WMT\".\n",
    "- 4 periods of time of 30 days. \n",
    "- Holding period of 30 days. \n",
    "- Maximum inversion per asset of 20% of the total budget."
   ]
  },
  {
   "cell_type": "code",
   "execution_count": null,
   "metadata": {},
   "outputs": [],
   "source": [
    "m = {}"
   ]
  },
  {
   "cell_type": "code",
   "execution_count": null,
   "metadata": {},
   "outputs": [],
   "source": [
    "# Set parameters for assets and risk factor\n",
    "m[\"num_assets\"] = 8 # set number of assets\n",
    "m[\"gamma\"] = 0.5   # risk aversion to 0.5\n",
    "m[\"lambda\"] = 0.001 # Transaction Cost\n",
    "m[\"holding_period\"] = 30 # Days of keeping the assets\n",
    "m[\"periods\"] = 4\n",
    "m[\"max_investment\"] = np.array([0.2, 0.2, 0.2, 0.2, 0.2, 0.2, 0.2, 0.2]) # Maximum investment per asset of the total budget\n",
    "m[\"assets\"] = [\"AAPL\",\"ABB\", \"ABBV\",\"CHL\", \"DUK\", \"HSBC\", \"TOT\", \"WMT\"]\n",
    "m[\"rho\"] = 5 # Lagrange multiplier for the budget constraint \n",
    "\n",
    "m[\"data\"] = [stocks[name] for name in m[\"assets\"]]\n",
    "\n",
    "m[\"mu\"] = mu_fun(m[\"data\"], m[\"holding_period\"])[-m[\"periods\"]:]\n",
    "m[\"sigma\"] = cov_matrix(m[\"data\"], m[\"holding_period\"])\n",
    "m[\"qp\"] = portfolioOptimization(m[\"mu\"], m[\"sigma\"][-m[\"periods\"]:], m[\"gamma\"],\n",
    "                           m[\"max_investment\"], m[\"lambda\"], m[\"rho\"])\n",
    "# Create a converter from quadratic program to quadratic unconstrained binary optimization (QUBO) representation\n",
    "m[\"qubo\"] = QuadraticProgramToQubo().convert(m[\"qp\"])"
   ]
  },
  {
   "cell_type": "markdown",
   "metadata": {},
   "source": [
    "<div class=\"alert alert-block alert-success\">\n",
    "In this case, the optimization requires 32 qubits. Therefore, it is needed to run the optimization portfolio in the qasm_simulator.\n",
    "    \n",
    "</div>"
   ]
  },
  {
   "cell_type": "code",
   "execution_count": null,
   "metadata": {},
   "outputs": [],
   "source": [
    "backend_sim = provider.get_backend(\"ibmq_qasm_simulator\")"
   ]
  },
  {
   "cell_type": "markdown",
   "metadata": {},
   "source": [
    "## 5.1 QAOA Solution using SPSA and COBYLA"
   ]
  },
  {
   "cell_type": "code",
   "execution_count": null,
   "metadata": {},
   "outputs": [],
   "source": [
    "m[\"QAOA\"] = {}"
   ]
  },
  {
   "cell_type": "code",
   "execution_count": null,
   "metadata": {},
   "outputs": [],
   "source": [
    "m[\"QAOA\"][\"SPSA\"] = Optimization_QAOA(m[\"qubo\"], reps=1, optimizer=SPSA(maxiter=50), backend=backend_sim,\n",
    "                                      provider=provider_7)"
   ]
  },
  {
   "cell_type": "code",
   "execution_count": null,
   "metadata": {},
   "outputs": [],
   "source": [
    "m[\"QAOA\"][\"COBYLA\"] = Optimization_QAOA(m[\"qubo\"], reps=1, optimizer=COBYLA(maxiter=50), backend=backend_sim,\n",
    "                                      provider=provider_7)"
   ]
  },
  {
   "cell_type": "markdown",
   "metadata": {},
   "source": [
    "## 5.2 VQE Solution using SPSA and COBYLA"
   ]
  },
  {
   "cell_type": "code",
   "execution_count": null,
   "metadata": {},
   "outputs": [],
   "source": [
    "m[\"VQE\"] = {}\n",
    "m[\"ansatz\"] = TwoLocal(m[\"qubo\"].get_num_vars(), rotation_blocks='ry', entanglement_blocks='cz')"
   ]
  },
  {
   "cell_type": "code",
   "execution_count": null,
   "metadata": {},
   "outputs": [],
   "source": [
    "m[\"VQE\"][\"COBYLA\"] = Optimization_VQE(m[\"qubo\"], ansatz=m[\"ansatz\"], optimizer=COBYLA(maxiter=50), backend=backend_sim,\n",
    "                                     provider=provider_7)"
   ]
  },
  {
   "cell_type": "code",
   "execution_count": null,
   "metadata": {},
   "outputs": [],
   "source": [
    "m[\"VQE\"][\"SPSA\"] = Optimization_VQE(m[\"qubo\"], ansatz=m[\"ansatz\"], optimizer=SPSA(maxiter=50), backend=backend_sim,\n",
    "                                   provider=provider_7)"
   ]
  },
  {
   "cell_type": "markdown",
   "metadata": {},
   "source": [
    "## 5.3 Solution using CPLEX"
   ]
  },
  {
   "cell_type": "code",
   "execution_count": null,
   "metadata": {},
   "outputs": [],
   "source": [
    "m[\"CPLEX\"]= CplexOptimizer().solve(m[\"qubo\"])"
   ]
  },
  {
   "cell_type": "markdown",
   "metadata": {},
   "source": [
    "## 5.4 Summary of model M"
   ]
  },
  {
   "cell_type": "code",
   "execution_count": null,
   "metadata": {},
   "outputs": [],
   "source": [
    "np.save(f\"./Data/{user}/s.npy\", m)\n",
    "\n",
    "#s = np.load(f\"./Data/{user}/s.npy\", allow_pickle=True).item()"
   ]
  },
  {
   "cell_type": "code",
   "execution_count": null,
   "metadata": {},
   "outputs": [],
   "source": [
    "method = [\"QAOA\", \"VQE\"]\n",
    "solver = [\"COBYLA\", \"SPSA\"]\n",
    "s_sol = [s[met][sol][0].x.reshape(s[\"periods\"],-1).astype(int) for met in method for sol in solver] + [(s[\"CPLEX\"].x+0.01).reshape(s[\"periods\"],-1).astype(int)]\n",
    "pd.DataFrame({\"Method\":[\"QAOA\",\"QAOA\", \"VQE\", \"VQE\", \"CPLEX\"],\n",
    "              \"Solver\":[\"SPSA\", \"COBYLA\",\"COBYLA\", \"SPSA\",\"\"],\n",
    "              \"Cost fun\":[s[met][sol][0].fval for met in method for sol in solver] + [s[\"CPLEX\"].fval],              \n",
    "              \"Solution\":s_sol,\n",
    "              \"Profit [%]\":[np.round(100*profits(_, s[\"mu\"], s[\"lambda\"], s[\"periods\"], s[\"max_investment\"]), 1) for _ in s_sol],\n",
    "              \"Transaction Cost [%]\":[100*transaction_costs(_, s[\"lambda\"], s[\"periods\"], s[\"max_investment\"]) for _ in s_sol]\n",
    "             })"
   ]
  },
  {
   "cell_type": "code",
   "execution_count": null,
   "metadata": {},
   "outputs": [],
   "source": []
  },
  {
   "cell_type": "markdown",
   "metadata": {},
   "source": [
    "# 7. References\n",
    "[1] Mugel, S., Kuchkovsky, C., Sánchez, E., Fernández-Lorenzo, S., Luis-Hita, J., Lizaso, E., & Orús, R. (2022). Dynamic portfolio optimization with real datasets using quantum processors and quantum-inspired tensor networks. Physical Review Research, 4(1), 1–13. https://doi.org/10.1103/PhysRevResearch.4.013006\n",
    "\n",
    "[2] Xu, Y., & Cohen, S. B. (2018). Stock Movement Prediction from Tweets and Historical Prices. 1970–1979."
   ]
  },
  {
   "cell_type": "code",
   "execution_count": null,
   "metadata": {},
   "outputs": [],
   "source": []
  }
 ],
 "metadata": {
  "kernelspec": {
   "display_name": "Python 3",
   "language": "python",
   "name": "python3"
  },
  "language_info": {
   "codemirror_mode": {
    "name": "ipython",
    "version": 3
   },
   "file_extension": ".py",
   "mimetype": "text/x-python",
   "name": "python",
   "nbconvert_exporter": "python",
   "pygments_lexer": "ipython3",
   "version": "3.8.3"
  }
 },
 "nbformat": 4,
 "nbformat_minor": 4
}
