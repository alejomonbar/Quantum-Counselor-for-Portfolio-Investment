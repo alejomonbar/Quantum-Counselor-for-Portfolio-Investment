{
 "cells": [
  {
   "cell_type": "markdown",
   "metadata": {},
   "source": [
    "# Quantum Counselor for Portfolio Investment\n",
    "\n",
    "The Quantum Counselor for portfolio investment is a tool with two main objectives: forecasting the trend of assets price and optimizing portfolio returns both using quantum computing techniques. For the case of the forecasting method, we use a hybrid method that combines a deep learning model of classical LSTM layers with quantum layers. For the case of portfolio optimization, the quantum algorithms of QAOA and VQE are used to solve the problem and will be compared with CPLEX, a classical solver. Both tools are deeply connected because the forecasted price of the different assets is used for the cost function construction.\n",
    "\n",
    "\n",
    "## Portfolio optimization\n",
    "\n",
    "For portfolio optimization, we use the modern portfolio theory where we is wanted to maximize the return of an investment while keeping the risk of losing money low. We based or method in the work of Mugel et. al [1] where the cost function is described by:\n",
    "\n",
    "<center><img src=\"images/Cost-function.png\" width=\"800\"></center>\n",
    "\n",
    "\n",
    "Two main techniques:\n",
    "\n",
    "- Portfolio optimization using QAOA, VQE, and Cplex (for classical comparison).\n",
    "- Hybrid model to predict the stocks prices\n",
    "\n",
    "\n",
    "Here, it is found:\n",
    "\n",
    "- Apply the results of the Hybrid model of price prediction to optimize the portfolio.\n",
    "\n",
    "three scenarios XS (3 stocks, 2 periods), S (5 stocks, 3 periods), M (8, 4)\n",
    "\n",
    "The solution methods are QAOA, VQE (both in qasm_simulator and the power-up qiskit machine with 16 qubits for XS and S), CPLEX.\n",
    "Using SPSA and COBYLA as classic solvers for comparison and changing the number of repetitions in QAOA and the Ansatz in VQE.\n",
    "\n",
    "\n",
    "[1] Mugel, S., Kuchkovsky, C., Sánchez, E., Fernández-Lorenzo, S., Luis-Hita, J., Lizaso, E., & Orús, R. (2022). Dynamic portfolio optimization with real datasets using quantum processors and quantum-inspired tensor networks. Physical Review Research, 4(1), 1–13. https://doi.org/10.1103/PhysRevResearch.4.013006"
   ]
  },
  {
   "cell_type": "code",
   "execution_count": 1,
   "metadata": {},
   "outputs": [],
   "source": [
    "from qiskit_finance.data_providers import RandomDataProvider\n",
    "import datetime\n",
    "import matplotlib.pyplot as plt\n",
    "import numpy as np\n",
    "from qiskit_finance.applications.optimization import PortfolioOptimization\n",
    "from qiskit import Aer\n",
    "from qiskit.algorithms import VQE, QAOA, NumPyMinimumEigensolver\n",
    "from qiskit.algorithms.optimizers import SLSQP\n",
    "from qiskit_optimization.algorithms import MinimumEigenOptimizer, CplexOptimizer \n",
    "from qiskit_optimization.converters import QuadraticProgramToQubo\n",
    "from qiskit import IBMQ\n",
    "from qiskit_optimization.runtime import QAOAClient, QAOAProgram\n",
    "from qiskit.algorithms.optimizers import SPSA, COBYLA\n",
    "from qiskit.circuit.library import TwoLocal\n",
    "import pandas as pd\n",
    "from qiskit.providers.basicaer import QasmSimulatorPy  # local simulator\n",
    "from qiskit.algorithms import VQE, QAOA"
   ]
  },
  {
   "cell_type": "markdown",
   "metadata": {},
   "source": [
    "### Functions developed by the authors"
   ]
  },
  {
   "cell_type": "code",
   "execution_count": 2,
   "metadata": {},
   "outputs": [],
   "source": [
    "from portfolioFunctions import mu_fun, cov_matrix, portfolioOptimization, Optimization_QAOA, Optimization_VQE\n",
    "from portfolioFunctions import profits, transaction_costs"
   ]
  },
  {
   "cell_type": "markdown",
   "metadata": {},
   "source": [
    "# XS\n",
    "\n",
    "The XS model consists of 3 assets and 2 periods of time with a maximum inversion per asset of 50% of the total budget."
   ]
  },
  {
   "cell_type": "code",
   "execution_count": 3,
   "metadata": {},
   "outputs": [],
   "source": [
    "# Set parameters for assets and risk factor\n",
    "num_assets = 3     # set number of assets to 4\n",
    "gamma = 0.5        # risk aversion to 0.5\n",
    "K = 2              # total investment \n",
    "Lambda = 0.001\n",
    "# Generate time series data\n",
    "stocks = [(\"STOCK%s\" % i) for i in range(num_assets)]\n",
    "data = RandomDataProvider(tickers=stocks,\n",
    "                          start=datetime.datetime(2010,1,1),   \n",
    "                          end=datetime.datetime(2021,12,31))\n",
    "data.run() \n",
    "# Data should contains the price of the action daily\n",
    "# I should replace the part above by the information of Alberto\n",
    "periods = 2\n",
    "holding_period = 1 # Days of keeping the assets\n",
    "max_invested = np.array(num_assets * [0.5])\n",
    "dataN = np.array(data._data)\n",
    "mu = holding_period * mu_fun(dataN, periods)\n",
    "sigma = cov_matrix(dataN, periods)\n",
    "qp = portfolioOptimization(mu, sigma, gamma, max_invested, Lambda=0, rho=5)\n",
    "# Create a converter from quadratic program to quadratic unconstrained binary optimization (QUBO) representation\n",
    "qubo = QuadraticProgramToQubo().convert(qp)"
   ]
  },
  {
   "cell_type": "code",
   "execution_count": 6,
   "metadata": {},
   "outputs": [
    {
     "data": {
      "image/png": "[encoded data removed]",
      "text/plain": [
       "<Figure size 432x288 with 1 Axes>"
      ]
     },
     "metadata": {
      "needs_background": "light"
     },
     "output_type": "display_data"
    }
   ],
   "source": [
    "# Let's plot our finanical data\n",
    "for (cnt, s) in enumerate(data._tickers):\n",
    "    plt.plot(data._data[cnt], label=s)\n",
    "plt.legend()\n",
    "plt.xticks(rotation=90)\n",
    "plt.xlabel('days')\n",
    "plt.ylabel('stock value')\n",
    "plt.show()"
   ]
  },
  {
   "cell_type": "markdown",
   "metadata": {},
   "source": [
    "### QAOA Solution using SPSA and COBYLA"
   ]
  },
  {
   "cell_type": "code",
   "execution_count": 7,
   "metadata": {},
   "outputs": [
    {
     "name": "stderr",
     "output_type": "stream",
     "text": [
      "/opt/anaconda3/lib/python3.8/site-packages/qiskit/utils/run_circuits.py:743: UserWarning: Option max_credits is not used by this backend\n",
      "  return backend.run(circuits, **run_kwargs)\n"
     ]
    }
   ],
   "source": [
    "sol_qaoa_spsa, data_qaoa_spsa = Optimization_QAOA(qubo, reps=1, optimizer=SPSA(maxiter=50), local=True)"
   ]
  },
  {
   "cell_type": "code",
   "execution_count": 8,
   "metadata": {},
   "outputs": [],
   "source": [
    "sol_qaoa_cobyla, data_qaoa_cobyla = Optimization_QAOA(qubo, reps=1, optimizer=COBYLA(maxiter=50), local=True)"
   ]
  },
  {
   "cell_type": "markdown",
   "metadata": {},
   "source": [
    "### VQE Solution using SPSA and SLSQP "
   ]
  },
  {
   "cell_type": "code",
   "execution_count": 9,
   "metadata": {},
   "outputs": [
    {
     "name": "stderr",
     "output_type": "stream",
     "text": [
      "/opt/anaconda3/lib/python3.8/site-packages/qiskit/utils/run_circuits.py:743: UserWarning: Option max_credits is not used by this backend\n",
      "  return backend.run(circuits, **run_kwargs)\n"
     ]
    }
   ],
   "source": [
    "ansatz = TwoLocal(qubo.get_num_vars(), rotation_blocks='ry', entanglement_blocks='cz')\n",
    "sol_vqe_slsqp, data_vqe_slsqp = Optimization_VQE(qubo, ansatz=ansatz, optimizer=SLSQP(maxiter=50), local=True)"
   ]
  },
  {
   "cell_type": "code",
   "execution_count": 10,
   "metadata": {},
   "outputs": [],
   "source": [
    "sol_vqe_spsa, data_vqe_spsa = Optimization_VQE(qubo, ansatz=ansatz, optimizer=SPSA(maxiter=50), local=True)"
   ]
  },
  {
   "cell_type": "markdown",
   "metadata": {},
   "source": [
    "## Solution using CPLEX"
   ]
  },
  {
   "cell_type": "code",
   "execution_count": 13,
   "metadata": {},
   "outputs": [],
   "source": [
    "sol_cplex = CplexOptimizer().solve(qubo)"
   ]
  },
  {
   "cell_type": "code",
   "execution_count": 14,
   "metadata": {},
   "outputs": [
    {
     "data": {
      "text/html": [
       "<div>\n",
       "<style scoped>\n",
       "    .dataframe tbody tr th:only-of-type {\n",
       "        vertical-align: middle;\n",
       "    }\n",
       "\n",
       "    .dataframe tbody tr th {\n",
       "        vertical-align: top;\n",
       "    }\n",
       "\n",
       "    .dataframe thead th {\n",
       "        text-align: right;\n",
       "    }\n",
       "</style>\n",
       "<table border=\"1\" class=\"dataframe\">\n",
       "  <thead>\n",
       "    <tr style=\"text-align: right;\">\n",
       "      <th></th>\n",
       "      <th>Method</th>\n",
       "      <th>Solver</th>\n",
       "      <th>Cost</th>\n",
       "      <th>Solution</th>\n",
       "      <th>Profit</th>\n",
       "      <th>Transaction Cost</th>\n",
       "    </tr>\n",
       "  </thead>\n",
       "  <tbody>\n",
       "    <tr>\n",
       "      <th>0</th>\n",
       "      <td>QAOA</td>\n",
       "      <td>SPSA</td>\n",
       "      <td>0.000101</td>\n",
       "      <td>[1.0, 1.0, 0.0, 1.0, 1.0, 0.0]</td>\n",
       "      <td>[-0.0015, 0.0003]</td>\n",
       "      <td>[0.002, 0.0]</td>\n",
       "    </tr>\n",
       "    <tr>\n",
       "      <th>1</th>\n",
       "      <td>QAOA</td>\n",
       "      <td>COBYLA</td>\n",
       "      <td>0.000101</td>\n",
       "      <td>[1.0, 1.0, 0.0, 1.0, 1.0, 0.0]</td>\n",
       "      <td>[-0.0015, 0.0003]</td>\n",
       "      <td>[0.002, 0.0]</td>\n",
       "    </tr>\n",
       "    <tr>\n",
       "      <th>2</th>\n",
       "      <td>VQE</td>\n",
       "      <td>SPSA</td>\n",
       "      <td>0.000101</td>\n",
       "      <td>[1.0, 1.0, 0.0, 1.0, 1.0, 0.0]</td>\n",
       "      <td>[-0.0015, 0.0003]</td>\n",
       "      <td>[0.002, 0.0]</td>\n",
       "    </tr>\n",
       "    <tr>\n",
       "      <th>3</th>\n",
       "      <td>VQE</td>\n",
       "      <td>SLSQP</td>\n",
       "      <td>0.000101</td>\n",
       "      <td>[1.0, 1.0, 0.0, 1.0, 1.0, 0.0]</td>\n",
       "      <td>[-0.0015, 0.0003]</td>\n",
       "      <td>[0.002, 0.0]</td>\n",
       "    </tr>\n",
       "    <tr>\n",
       "      <th>4</th>\n",
       "      <td>CPLEX</td>\n",
       "      <td></td>\n",
       "      <td>0.000101</td>\n",
       "      <td>[1.0, 1.0, 0.0, 1.0, 1.0, 0.0]</td>\n",
       "      <td>[-0.0015, 0.0003]</td>\n",
       "      <td>[0.002, 0.0]</td>\n",
       "    </tr>\n",
       "  </tbody>\n",
       "</table>\n",
       "</div>"
      ],
      "text/plain": [
       "  Method  Solver      Cost                        Solution             Profit  \\\n",
       "0   QAOA    SPSA  0.000101  [1.0, 1.0, 0.0, 1.0, 1.0, 0.0]  [-0.0015, 0.0003]   \n",
       "1   QAOA  COBYLA  0.000101  [1.0, 1.0, 0.0, 1.0, 1.0, 0.0]  [-0.0015, 0.0003]   \n",
       "2    VQE    SPSA  0.000101  [1.0, 1.0, 0.0, 1.0, 1.0, 0.0]  [-0.0015, 0.0003]   \n",
       "3    VQE   SLSQP  0.000101  [1.0, 1.0, 0.0, 1.0, 1.0, 0.0]  [-0.0015, 0.0003]   \n",
       "4  CPLEX          0.000101  [1.0, 1.0, 0.0, 1.0, 1.0, 0.0]  [-0.0015, 0.0003]   \n",
       "\n",
       "  Transaction Cost  \n",
       "0     [0.002, 0.0]  \n",
       "1     [0.002, 0.0]  \n",
       "2     [0.002, 0.0]  \n",
       "3     [0.002, 0.0]  \n",
       "4     [0.002, 0.0]  "
      ]
     },
     "execution_count": 14,
     "metadata": {},
     "output_type": "execute_result"
    }
   ],
   "source": [
    "data_sx = [sol_qaoa_spsa, sol_qaoa_cobyla, sol_vqe_slsqp, sol_vqe_spsa,sol_cplex]\n",
    "pd.DataFrame({\"Method\":[\"QAOA\",\"QAOA\", \"VQE\", \"VQE\", \"CPLEX\"],\n",
    "                        \"Solver\":[\"SPSA\", \"COBYLA\",\"SPSA\", \"SLSQP\",\"\"],\n",
    "                        \"Cost\":[_.fval for _ in data_sx],\n",
    "                        \"Solution\":[_.x for _ in data_sx],\n",
    "                        \"Profit\":[np.round(profits(_.x, mu, Lambda, periods),4) for _ in data_sx],\n",
    "                        \"Transaction Cost\":[transaction_costs(_.x, Lambda, periods) for _ in data_sx]\n",
    "             })"
   ]
  },
  {
   "cell_type": "markdown",
   "metadata": {},
   "source": [
    "## S\n",
    "\n",
    "The S model consists of 5 assets and 3 periods of time with a maximum inversion per asset of 25% of the total budget.\n"
   ]
  },
  {
   "cell_type": "code",
   "execution_count": 16,
   "metadata": {},
   "outputs": [],
   "source": [
    "# Set parameters for assets and risk factor\n",
    "num_assets = 5     # set number of assets to 4\n",
    "gamma = 0.5        # risk aversion to 0.5\n",
    "Lambda = 0.001\n",
    "# Generate time series data\n",
    "stocks = [(\"STOCK%s\" % i) for i in range(num_assets)]\n",
    "data = RandomDataProvider(tickers=stocks,\n",
    "                          start=datetime.datetime(2010,1,1),   \n",
    "                          end=datetime.datetime(2021,12,31))\n",
    "data.run() \n",
    "# Data should contains the price of the action daily\n",
    "# I should replace the part above by the information of Alberto\n",
    "periods = 3\n",
    "holding_period = 1 # Days of keeping the assets\n",
    "max_invested = np.array(num_assets * [0.25])\n",
    "dataN = np.array(data._data)\n",
    "mu = holding_period * mu_fun(dataN, periods)\n",
    "sigma = cov_matrix(dataN, periods)\n",
    "qp = portfolioOptimization(mu, sigma, gamma, max_invested, Lambda=0, rho=5)\n",
    "# Create a converter from quadratic program to quadratic unconstrained binary optimization (QUBO) representation\n",
    "qubo = QuadraticProgramToQubo().convert(qp)\n"
   ]
  },
  {
   "cell_type": "code",
   "execution_count": 33,
   "metadata": {},
   "outputs": [
    {
     "data": {
      "image/png": "[encoded data removed]",
      "text/plain": [
       "<Figure size 432x288 with 1 Axes>"
      ]
     },
     "metadata": {
      "needs_background": "light"
     },
     "output_type": "display_data"
    }
   ],
   "source": [
    "for (cnt, s) in enumerate(data._tickers):\n",
    "    plt.plot(data._data[cnt], label=s)\n",
    "plt.legend()\n",
    "plt.xticks(rotation=90)\n",
    "plt.xlabel('days')\n",
    "plt.ylabel('stock value')\n",
    "plt.show()"
   ]
  },
  {
   "cell_type": "markdown",
   "metadata": {},
   "source": [
    "### QAOA Solution using SPSA and COBYLA"
   ]
  },
  {
   "cell_type": "code",
   "execution_count": 17,
   "metadata": {},
   "outputs": [
    {
     "name": "stderr",
     "output_type": "stream",
     "text": [
      "/opt/anaconda3/lib/python3.8/site-packages/qiskit/utils/run_circuits.py:743: UserWarning: Option max_credits is not used by this backend\n",
      "  return backend.run(circuits, **run_kwargs)\n"
     ]
    }
   ],
   "source": [
    "sol_qaoa_spsa, data_qaoa_spsa = Optimization_QAOA(qubo, reps=1, optimizer=SPSA(maxiter=50), local=True)"
   ]
  },
  {
   "cell_type": "code",
   "execution_count": 18,
   "metadata": {},
   "outputs": [],
   "source": [
    "sol_qaoa_cobyla, data_qaoa_cobyla = Optimization_QAOA(qubo, reps=1, optimizer=COBYLA(maxiter=50), local=True)"
   ]
  },
  {
   "cell_type": "markdown",
   "metadata": {},
   "source": [
    "### VQE Solution using SPSA and COBYLA"
   ]
  },
  {
   "cell_type": "code",
   "execution_count": 21,
   "metadata": {},
   "outputs": [],
   "source": [
    "ansatz = TwoLocal(qubo.get_num_vars(), rotation_blocks='ry', entanglement_blocks='cz')\n",
    "sol_vqe_slsqp, data_vqe_slsqp = Optimization_VQE(qubo, ansatz=ansatz, optimizer=COBYLA(maxiter=50), local=True)"
   ]
  },
  {
   "cell_type": "code",
   "execution_count": 20,
   "metadata": {},
   "outputs": [],
   "source": [
    "sol_vqe_spsa, data_vqe_spsa = Optimization_VQE(qubo, ansatz=ansatz, optimizer=SPSA(maxiter=50), local=True)"
   ]
  },
  {
   "cell_type": "markdown",
   "metadata": {},
   "source": [
    "### Solution using CPLEX"
   ]
  },
  {
   "cell_type": "code",
   "execution_count": 22,
   "metadata": {},
   "outputs": [],
   "source": [
    "sol_cplex = CplexOptimizer().solve(qubo)"
   ]
  },
  {
   "cell_type": "code",
   "execution_count": 32,
   "metadata": {},
   "outputs": [
    {
     "data": {
      "text/html": [
       "<div>\n",
       "<style scoped>\n",
       "    .dataframe tbody tr th:only-of-type {\n",
       "        vertical-align: middle;\n",
       "    }\n",
       "\n",
       "    .dataframe tbody tr th {\n",
       "        vertical-align: top;\n",
       "    }\n",
       "\n",
       "    .dataframe thead th {\n",
       "        text-align: right;\n",
       "    }\n",
       "</style>\n",
       "<table border=\"1\" class=\"dataframe\">\n",
       "  <thead>\n",
       "    <tr style=\"text-align: right;\">\n",
       "      <th></th>\n",
       "      <th>Method</th>\n",
       "      <th>Solver</th>\n",
       "      <th>Cost</th>\n",
       "      <th>Solution</th>\n",
       "      <th>Profit</th>\n",
       "      <th>Transaction Cost</th>\n",
       "    </tr>\n",
       "  </thead>\n",
       "  <tbody>\n",
       "    <tr>\n",
       "      <th>0</th>\n",
       "      <td>QAOA</td>\n",
       "      <td>SPSA</td>\n",
       "      <td>0.000742</td>\n",
       "      <td>[[1, 1, 0, 1, 1], [1, 0, 1, 1, 1], [1, 1, 1, 1...</td>\n",
       "      <td>[-0.0027, -0.0021, -0.0032]</td>\n",
       "      <td>[0.004, 0.002, 0.002]</td>\n",
       "    </tr>\n",
       "    <tr>\n",
       "      <th>1</th>\n",
       "      <td>QAOA</td>\n",
       "      <td>COBYLA</td>\n",
       "      <td>-0.000101</td>\n",
       "      <td>[[0, 1, 1, 1, 1], [1, 1, 1, 0, 1], [1, 1, 0, 1...</td>\n",
       "      <td>[-0.0007, -0.0023, -0.0022]</td>\n",
       "      <td>[0.004, 0.002, 0.002]</td>\n",
       "    </tr>\n",
       "    <tr>\n",
       "      <th>2</th>\n",
       "      <td>VQE</td>\n",
       "      <td>SPSA</td>\n",
       "      <td>0.312399</td>\n",
       "      <td>[[0, 1, 1, 1, 1], [1, 1, 1, 0, 1], [0, 1, 0, 1...</td>\n",
       "      <td>[-0.0007, -0.0023, -0.0032]</td>\n",
       "      <td>[0.004, 0.002, 0.003]</td>\n",
       "    </tr>\n",
       "    <tr>\n",
       "      <th>3</th>\n",
       "      <td>VQE</td>\n",
       "      <td>COBYLA</td>\n",
       "      <td>-0.000101</td>\n",
       "      <td>[[0, 1, 1, 1, 1], [1, 1, 1, 0, 1], [1, 1, 0, 1...</td>\n",
       "      <td>[-0.0007, -0.0023, -0.0022]</td>\n",
       "      <td>[0.004, 0.002, 0.002]</td>\n",
       "    </tr>\n",
       "    <tr>\n",
       "      <th>4</th>\n",
       "      <td>CPLEX</td>\n",
       "      <td></td>\n",
       "      <td>-0.000232</td>\n",
       "      <td>[[0, 1, 1, 1, 1], [1, 1, 0, 1, 1], [1, 1, 0, 1...</td>\n",
       "      <td>[-0.0007, -0.0018, -0.0002]</td>\n",
       "      <td>[0.004, 0.002, 0.0]</td>\n",
       "    </tr>\n",
       "  </tbody>\n",
       "</table>\n",
       "</div>"
      ],
      "text/plain": [
       "  Method  Solver      Cost                                           Solution  \\\n",
       "0   QAOA    SPSA  0.000742  [[1, 1, 0, 1, 1], [1, 0, 1, 1, 1], [1, 1, 1, 1...   \n",
       "1   QAOA  COBYLA -0.000101  [[0, 1, 1, 1, 1], [1, 1, 1, 0, 1], [1, 1, 0, 1...   \n",
       "2    VQE    SPSA  0.312399  [[0, 1, 1, 1, 1], [1, 1, 1, 0, 1], [0, 1, 0, 1...   \n",
       "3    VQE  COBYLA -0.000101  [[0, 1, 1, 1, 1], [1, 1, 1, 0, 1], [1, 1, 0, 1...   \n",
       "4  CPLEX         -0.000232  [[0, 1, 1, 1, 1], [1, 1, 0, 1, 1], [1, 1, 0, 1...   \n",
       "\n",
       "                        Profit       Transaction Cost  \n",
       "0  [-0.0027, -0.0021, -0.0032]  [0.004, 0.002, 0.002]  \n",
       "1  [-0.0007, -0.0023, -0.0022]  [0.004, 0.002, 0.002]  \n",
       "2  [-0.0007, -0.0023, -0.0032]  [0.004, 0.002, 0.003]  \n",
       "3  [-0.0007, -0.0023, -0.0022]  [0.004, 0.002, 0.002]  \n",
       "4  [-0.0007, -0.0018, -0.0002]    [0.004, 0.002, 0.0]  "
      ]
     },
     "execution_count": 32,
     "metadata": {},
     "output_type": "execute_result"
    }
   ],
   "source": [
    "data_s = [sol_qaoa_spsa, sol_qaoa_cobyla, sol_vqe_slsqp, sol_vqe_spsa,sol_cplex]\n",
    "pd.DataFrame({\"Method\":[\"QAOA\",\"QAOA\", \"VQE\", \"VQE\", \"CPLEX\"],\n",
    "                        \"Solver\":[\"SPSA\", \"COBYLA\",\"SPSA\", \"COBYLA\",\"\"],\n",
    "                        \"Cost\":[_.fval for _ in data_s],\n",
    "                        \"Solution\":[_.x.reshape(periods,-1).astype(int) for _ in data_s],\n",
    "                        \"Profit\":[np.round(profits(_.x, mu, Lambda, periods),4) for _ in data_s],\n",
    "                        \"Transaction Cost\":[transaction_costs(_.x, Lambda, periods) for _ in data_s]\n",
    "             })"
   ]
  },
  {
   "cell_type": "code",
   "execution_count": null,
   "metadata": {},
   "outputs": [],
   "source": []
  }
 ],
 "metadata": {
  "kernelspec": {
   "display_name": "Python 3",
   "language": "python",
   "name": "python3"
  },
  "language_info": {
   "codemirror_mode": {
    "name": "ipython",
    "version": 3
   },
   "file_extension": ".py",
   "mimetype": "text/x-python",
   "name": "python",
   "nbconvert_exporter": "python",
   "pygments_lexer": "ipython3",
   "version": "3.8.3"
  }
 },
 "nbformat": 4,
 "nbformat_minor": 4
}
