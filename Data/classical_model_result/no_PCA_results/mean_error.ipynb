{
 "cells": [
  {
   "cell_type": "code",
   "execution_count": 1,
   "id": "2c954b3f",
   "metadata": {},
   "outputs": [
    {
     "data": {
      "text/plain": [
       "[array([2.41364248, 6.35633097]),\n",
       " array([2.57094527, 2.39609477]),\n",
       " array([2.78410393, 2.68631733]),\n",
       " array([2.43692562, 1.96877178]),\n",
       " array([2.31751655, 2.28402571]),\n",
       " array([2.45610339, 2.47724599]),\n",
       " array([2.43017083, 1.87460255]),\n",
       " array([2.80223815, 3.03568697])]"
      ]
     },
     "execution_count": 1,
     "metadata": {},
     "output_type": "execute_result"
    }
   ],
   "source": [
    "import pandas as pd\n",
    "import numpy as np\n",
    "from IPython.display import HTML\n",
    "name_stocks = ['AAPL','ABB','ABBV','TOT','WMT','DUK','CHL','HSBC']\n",
    "\n",
    "list_error= []\n",
    "\n",
    "for name in name_stocks: \n",
    "    df = pd.read_csv(name+'_error.csv')\n",
    "    list_error.append(np.asarray(df.mean(axis=0)))\n",
    "\n",
    "list_error"
   ]
  },
  {
   "cell_type": "code",
   "execution_count": 2,
   "id": "d0ccc9f7",
   "metadata": {},
   "outputs": [
    {
     "data": {
      "text/html": [
       "<table border=\"1\" class=\"dataframe\">\n",
       "  <thead>\n",
       "    <tr style=\"text-align: right;\">\n",
       "      <th>Error train (%)</th>\n",
       "      <th>Error test (%)</th>\n",
       "    </tr>\n",
       "  </thead>\n",
       "  <tbody>\n",
       "    <tr>\n",
       "      <td>2.413642</td>\n",
       "      <td>6.356331</td>\n",
       "    </tr>\n",
       "    <tr>\n",
       "      <td>2.570945</td>\n",
       "      <td>2.396095</td>\n",
       "    </tr>\n",
       "    <tr>\n",
       "      <td>2.784104</td>\n",
       "      <td>2.686317</td>\n",
       "    </tr>\n",
       "    <tr>\n",
       "      <td>2.436926</td>\n",
       "      <td>1.968772</td>\n",
       "    </tr>\n",
       "    <tr>\n",
       "      <td>2.317517</td>\n",
       "      <td>2.284026</td>\n",
       "    </tr>\n",
       "    <tr>\n",
       "      <td>2.456103</td>\n",
       "      <td>2.477246</td>\n",
       "    </tr>\n",
       "    <tr>\n",
       "      <td>2.430171</td>\n",
       "      <td>1.874603</td>\n",
       "    </tr>\n",
       "    <tr>\n",
       "      <td>2.802238</td>\n",
       "      <td>3.035687</td>\n",
       "    </tr>\n",
       "  </tbody>\n",
       "</table>"
      ],
      "text/plain": [
       "<IPython.core.display.HTML object>"
      ]
     },
     "execution_count": 2,
     "metadata": {},
     "output_type": "execute_result"
    }
   ],
   "source": [
    "df_result = pd.DataFrame(list_error,columns =['Error train (%)','Error test (%)'],)\n",
    "HTML(df_result.to_html(index=False))"
   ]
  }
 ],
 "metadata": {
  "kernelspec": {
   "display_name": "Python 3 (ipykernel)",
   "language": "python",
   "name": "python3"
  },
  "language_info": {
   "codemirror_mode": {
    "name": "ipython",
    "version": 3
   },
   "file_extension": ".py",
   "mimetype": "text/x-python",
   "name": "python",
   "nbconvert_exporter": "python",
   "pygments_lexer": "ipython3",
   "version": "3.8.8"
  }
 },
 "nbformat": 4,
 "nbformat_minor": 5
}
