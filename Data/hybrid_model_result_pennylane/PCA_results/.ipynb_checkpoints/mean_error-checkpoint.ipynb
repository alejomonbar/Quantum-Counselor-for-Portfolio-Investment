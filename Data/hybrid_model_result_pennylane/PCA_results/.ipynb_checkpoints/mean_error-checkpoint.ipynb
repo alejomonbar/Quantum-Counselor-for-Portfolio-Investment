{
 "cells": [
  {
   "cell_type": "code",
   "execution_count": 1,
   "id": "c33154dd",
   "metadata": {},
   "outputs": [
    {
     "data": {
      "text/plain": [
       "[array([2.58182948, 7.99742909]),\n",
       " array([2.87753512, 2.76238012]),\n",
       " array([2.73511293, 2.85157457]),\n",
       " array([2.69818453, 1.9960727 ]),\n",
       " array([2.6820495 , 2.71634019]),\n",
       " array([2.72593562, 3.29130642]),\n",
       " array([2.51454708, 1.93019065]),\n",
       " array([2.60996052, 3.29559817])]"
      ]
     },
     "execution_count": 1,
     "metadata": {},
     "output_type": "execute_result"
    }
   ],
   "source": [
    "import pandas as pd\n",
    "import numpy as np\n",
    "from IPython.display import HTML\n",
    "name_stocks = ['AAPL','ABB','ABBV','TOT','WMT','DUK','CHL','HSBC']\n",
    "\n",
    "list_error= []\n",
    "\n",
    "for name in name_stocks: \n",
    "    df = pd.read_csv(name+'_error.csv')\n",
    "    list_error.append(np.asarray(df.mean(axis=0)))\n",
    "\n",
    "list_error"
   ]
  },
  {
   "cell_type": "code",
   "execution_count": 2,
   "id": "8a09a4f6",
   "metadata": {},
   "outputs": [
    {
     "data": {
      "text/html": [
       "<table border=\"1\" class=\"dataframe\">\n",
       "  <thead>\n",
       "    <tr style=\"text-align: right;\">\n",
       "      <th>Error train (%)</th>\n",
       "      <th>Error test (%)</th>\n",
       "    </tr>\n",
       "  </thead>\n",
       "  <tbody>\n",
       "    <tr>\n",
       "      <td>2.581829</td>\n",
       "      <td>7.997429</td>\n",
       "    </tr>\n",
       "    <tr>\n",
       "      <td>2.877535</td>\n",
       "      <td>2.762380</td>\n",
       "    </tr>\n",
       "    <tr>\n",
       "      <td>2.735113</td>\n",
       "      <td>2.851575</td>\n",
       "    </tr>\n",
       "    <tr>\n",
       "      <td>2.698185</td>\n",
       "      <td>1.996073</td>\n",
       "    </tr>\n",
       "    <tr>\n",
       "      <td>2.682050</td>\n",
       "      <td>2.716340</td>\n",
       "    </tr>\n",
       "    <tr>\n",
       "      <td>2.725936</td>\n",
       "      <td>3.291306</td>\n",
       "    </tr>\n",
       "    <tr>\n",
       "      <td>2.514547</td>\n",
       "      <td>1.930191</td>\n",
       "    </tr>\n",
       "    <tr>\n",
       "      <td>2.609961</td>\n",
       "      <td>3.295598</td>\n",
       "    </tr>\n",
       "  </tbody>\n",
       "</table>"
      ],
      "text/plain": [
       "<IPython.core.display.HTML object>"
      ]
     },
     "execution_count": 2,
     "metadata": {},
     "output_type": "execute_result"
    }
   ],
   "source": [
    "df_result = pd.DataFrame(list_error,columns =['Error train (%)','Error test (%)'],)\n",
    "HTML(df_result.to_html(index=False))"
   ]
  },
  {
   "cell_type": "code",
   "execution_count": null,
   "id": "4885bbc6",
   "metadata": {},
   "outputs": [],
   "source": []
  }
 ],
 "metadata": {
  "kernelspec": {
   "display_name": "Python 3 (ipykernel)",
   "language": "python",
   "name": "python3"
  },
  "language_info": {
   "codemirror_mode": {
    "name": "ipython",
    "version": 3
   },
   "file_extension": ".py",
   "mimetype": "text/x-python",
   "name": "python",
   "nbconvert_exporter": "python",
   "pygments_lexer": "ipython3",
   "version": "3.8.8"
  }
 },
 "nbformat": 4,
 "nbformat_minor": 5
}
