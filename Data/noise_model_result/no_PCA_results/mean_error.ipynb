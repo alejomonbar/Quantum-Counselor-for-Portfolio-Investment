{
 "cells": [
  {
   "cell_type": "code",
   "execution_count": 21,
   "id": "c33154dd",
   "metadata": {},
   "outputs": [
    {
     "data": {
      "text/plain": [
       "[array([2.48959445, 6.07415588]),\n",
       " array([2.62482862, 2.55258749]),\n",
       " array([2.71909118, 2.68179748]),\n",
       " array([2.55773845, 2.20637658]),\n",
       " array([2.45258073, 2.32435088]),\n",
       " array([2.42886337, 2.59469801]),\n",
       " array([2.27421156, 1.72007214]),\n",
       " array([2.69880822, 3.11153176])]"
      ]
     },
     "execution_count": 21,
     "metadata": {},
     "output_type": "execute_result"
    }
   ],
   "source": [
    "import pandas as pd\n",
    "import numpy as np\n",
    "from IPython.display import HTML\n",
    "name_stocks = ['AAPL','ABB','ABBV','TOT','WMT','DUK','CHL','HSBC']\n",
    "\n",
    "list_error= []\n",
    "\n",
    "for name in name_stocks: \n",
    "    df = pd.read_csv(name+'_error.csv')\n",
    "    list_error.append(np.asarray(df.mean(axis=0)))\n",
    "\n",
    "list_error"
   ]
  },
  {
   "cell_type": "code",
   "execution_count": 24,
   "id": "8a09a4f6",
   "metadata": {},
   "outputs": [
    {
     "data": {
      "text/html": [
       "<table border=\"1\" class=\"dataframe\">\n",
       "  <thead>\n",
       "    <tr style=\"text-align: right;\">\n",
       "      <th>Error train (%)</th>\n",
       "      <th>Error test (%)</th>\n",
       "    </tr>\n",
       "  </thead>\n",
       "  <tbody>\n",
       "    <tr>\n",
       "      <td>2.489594</td>\n",
       "      <td>6.074156</td>\n",
       "    </tr>\n",
       "    <tr>\n",
       "      <td>2.624829</td>\n",
       "      <td>2.552587</td>\n",
       "    </tr>\n",
       "    <tr>\n",
       "      <td>2.719091</td>\n",
       "      <td>2.681797</td>\n",
       "    </tr>\n",
       "    <tr>\n",
       "      <td>2.557738</td>\n",
       "      <td>2.206377</td>\n",
       "    </tr>\n",
       "    <tr>\n",
       "      <td>2.452581</td>\n",
       "      <td>2.324351</td>\n",
       "    </tr>\n",
       "    <tr>\n",
       "      <td>2.428863</td>\n",
       "      <td>2.594698</td>\n",
       "    </tr>\n",
       "    <tr>\n",
       "      <td>2.274212</td>\n",
       "      <td>1.720072</td>\n",
       "    </tr>\n",
       "    <tr>\n",
       "      <td>2.698808</td>\n",
       "      <td>3.111532</td>\n",
       "    </tr>\n",
       "  </tbody>\n",
       "</table>"
      ],
      "text/plain": [
       "<IPython.core.display.HTML object>"
      ]
     },
     "execution_count": 24,
     "metadata": {},
     "output_type": "execute_result"
    }
   ],
   "source": [
    "df_result = pd.DataFrame(list_error,columns =['Error train (%)','Error test (%)'],)\n",
    "HTML(df_result.to_html(index=False))"
   ]
  }
 ],
 "metadata": {
  "kernelspec": {
   "display_name": "Python 3 (ipykernel)",
   "language": "python",
   "name": "python3"
  },
  "language_info": {
   "codemirror_mode": {
    "name": "ipython",
    "version": 3
   },
   "file_extension": ".py",
   "mimetype": "text/x-python",
   "name": "python",
   "nbconvert_exporter": "python",
   "pygments_lexer": "ipython3",
   "version": "3.8.8"
  }
 },
 "nbformat": 4,
 "nbformat_minor": 5
}
