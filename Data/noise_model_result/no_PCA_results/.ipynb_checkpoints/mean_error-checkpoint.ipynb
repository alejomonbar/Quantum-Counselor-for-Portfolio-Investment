{
 "cells": [
  {
   "cell_type": "code",
   "execution_count": 4,
   "id": "c33154dd",
   "metadata": {},
   "outputs": [
    {
     "data": {
      "text/plain": [
       "[array([10.88995636, 22.42445977])]"
      ]
     },
     "execution_count": 4,
     "metadata": {},
     "output_type": "execute_result"
    }
   ],
   "source": [
    "import pandas as pd\n",
    "import numpy as np\n",
    "from IPython.display import HTML\n",
    "name_stocks = ['AAPL']\n",
    "\n",
    "list_error= []\n",
    "\n",
    "for name in name_stocks: \n",
    "    df = pd.read_csv(name+'_error.csv')\n",
    "    list_error.append(np.asarray(df.mean(axis=0)))\n",
    "\n",
    "list_error"
   ]
  },
  {
   "cell_type": "code",
   "execution_count": 5,
   "id": "8a09a4f6",
   "metadata": {},
   "outputs": [
    {
     "data": {
      "text/html": [
       "<table border=\"1\" class=\"dataframe\">\n",
       "  <thead>\n",
       "    <tr style=\"text-align: right;\">\n",
       "      <th>Error train (%)</th>\n",
       "      <th>Error test (%)</th>\n",
       "    </tr>\n",
       "  </thead>\n",
       "  <tbody>\n",
       "    <tr>\n",
       "      <td>10.889956</td>\n",
       "      <td>22.42446</td>\n",
       "    </tr>\n",
       "  </tbody>\n",
       "</table>"
      ],
      "text/plain": [
       "<IPython.core.display.HTML object>"
      ]
     },
     "execution_count": 5,
     "metadata": {},
     "output_type": "execute_result"
    }
   ],
   "source": [
    "df_result = pd.DataFrame(list_error,columns =['Error train (%)','Error test (%)'],)\n",
    "HTML(df_result.to_html(index=False))"
   ]
  }
 ],
 "metadata": {
  "kernelspec": {
   "display_name": "Python 3 (ipykernel)",
   "language": "python",
   "name": "python3"
  },
  "language_info": {
   "codemirror_mode": {
    "name": "ipython",
    "version": 3
   },
   "file_extension": ".py",
   "mimetype": "text/x-python",
   "name": "python",
   "nbconvert_exporter": "python",
   "pygments_lexer": "ipython3",
   "version": "3.8.8"
  }
 },
 "nbformat": 4,
 "nbformat_minor": 5
}
