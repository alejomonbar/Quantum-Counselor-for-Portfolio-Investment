{
 "cells": [
  {
   "cell_type": "markdown",
   "metadata": {
    "id": "QI4PhD_bi9dN"
   },
   "source": [
    "## **Importing Libraries**"
   ]
  },
  {
   "cell_type": "code",
   "execution_count": 1,
   "metadata": {},
   "outputs": [
    {
     "name": "stderr",
     "output_type": "stream",
     "text": [
      "2022-02-22 22:15:44.197074: W tensorflow/stream_executor/platform/default/dso_loader.cc:64] Could not load dynamic library 'libcudart.so.11.0'; dlerror: libcudart.so.11.0: cannot open shared object file: No such file or directory\n",
      "2022-02-22 22:15:44.197092: I tensorflow/stream_executor/cuda/cudart_stub.cc:29] Ignore above cudart dlerror if you do not have a GPU set up on your machine.\n",
      "2022-02-22 22:15:45.716702: E tensorflow/stream_executor/cuda/cuda_driver.cc:271] failed call to cuInit: CUDA_ERROR_NO_DEVICE: no CUDA-capable device is detected\n",
      "2022-02-22 22:15:45.716724: I tensorflow/stream_executor/cuda/cuda_diagnostics.cc:156] kernel driver does not appear to be running on this host (toto): /proc/driver/nvidia/version does not exist\n",
      "2022-02-22 22:15:45.717252: I tensorflow/core/platform/cpu_feature_guard.cc:151] This TensorFlow binary is optimized with oneAPI Deep Neural Network Library (oneDNN) to use the following CPU instructions in performance-critical operations:  AVX2 FMA\n",
      "To enable them in other operations, rebuild TensorFlow with the appropriate compiler flags.\n"
     ]
    }
   ],
   "source": [
    "\n",
    "import numpy as np\n",
    "import pandas as pd\n",
    "import matplotlib.pyplot as plt\n",
    "import matplotlib.font_manager\n",
    "\n",
    "from sklearn.decomposition import PCA\n",
    "from sklearn.pipeline import make_pipeline\n",
    "from sklearn.preprocessing import StandardScaler\n",
    "from sklearn.preprocessing import scale\n",
    "from sklearn.preprocessing import MinMaxScaler\n",
    "\n",
    "# Tensorflow Quantum \n",
    "from cirq.contrib.svg import SVGCircuit\n",
    "import tensorflow_quantum as tfq\n",
    "\n",
    "import tensorflow as tf\n",
    "import cirq\n",
    "import sympy"
   ]
  },
  {
   "cell_type": "markdown",
   "metadata": {
    "id": "3J64HGEcjKho"
   },
   "source": [
    "## **Loading Our Dataset**"
   ]
  },
  {
   "cell_type": "code",
   "execution_count": 2,
   "metadata": {
    "id": "U7lENEw6qWUz"
   },
   "outputs": [],
   "source": [
    "df = pd.read_csv('price/raw/AAPL.csv')"
   ]
  },
  {
   "cell_type": "markdown",
   "metadata": {
    "id": "BRlUUY3XjXiz"
   },
   "source": [
    "## **Feature Extraction**"
   ]
  },
  {
   "cell_type": "code",
   "execution_count": 3,
   "metadata": {},
   "outputs": [
    {
     "data": {
      "text/html": [
       "<div>\n",
       "<style scoped>\n",
       "    .dataframe tbody tr th:only-of-type {\n",
       "        vertical-align: middle;\n",
       "    }\n",
       "\n",
       "    .dataframe tbody tr th {\n",
       "        vertical-align: top;\n",
       "    }\n",
       "\n",
       "    .dataframe thead th {\n",
       "        text-align: right;\n",
       "    }\n",
       "</style>\n",
       "<table border=\"1\" class=\"dataframe\">\n",
       "  <thead>\n",
       "    <tr style=\"text-align: right;\">\n",
       "      <th></th>\n",
       "      <th>Open</th>\n",
       "      <th>High</th>\n",
       "      <th>Low</th>\n",
       "      <th>Close</th>\n",
       "      <th>Adj Close</th>\n",
       "      <th>Volume</th>\n",
       "    </tr>\n",
       "  </thead>\n",
       "  <tbody>\n",
       "    <tr>\n",
       "      <th>0</th>\n",
       "      <td>95.108574</td>\n",
       "      <td>96.448570</td>\n",
       "      <td>94.928574</td>\n",
       "      <td>96.424286</td>\n",
       "      <td>87.121140</td>\n",
       "      <td>91973000</td>\n",
       "    </tr>\n",
       "    <tr>\n",
       "      <th>1</th>\n",
       "      <td>96.510002</td>\n",
       "      <td>96.621429</td>\n",
       "      <td>95.657143</td>\n",
       "      <td>95.747147</td>\n",
       "      <td>86.509338</td>\n",
       "      <td>84093800</td>\n",
       "    </tr>\n",
       "    <tr>\n",
       "      <th>2</th>\n",
       "      <td>96.167145</td>\n",
       "      <td>96.898575</td>\n",
       "      <td>95.828575</td>\n",
       "      <td>96.610001</td>\n",
       "      <td>87.288956</td>\n",
       "      <td>97799100</td>\n",
       "    </tr>\n",
       "    <tr>\n",
       "      <th>3</th>\n",
       "      <td>96.864288</td>\n",
       "      <td>97.497147</td>\n",
       "      <td>96.538574</td>\n",
       "      <td>97.205711</td>\n",
       "      <td>87.827171</td>\n",
       "      <td>82416600</td>\n",
       "    </tr>\n",
       "    <tr>\n",
       "      <th>4</th>\n",
       "      <td>97.207146</td>\n",
       "      <td>97.612854</td>\n",
       "      <td>94.585716</td>\n",
       "      <td>94.677139</td>\n",
       "      <td>85.542564</td>\n",
       "      <td>121999500</td>\n",
       "    </tr>\n",
       "    <tr>\n",
       "      <th>...</th>\n",
       "      <td>...</td>\n",
       "      <td>...</td>\n",
       "      <td>...</td>\n",
       "      <td>...</td>\n",
       "      <td>...</td>\n",
       "      <td>...</td>\n",
       "    </tr>\n",
       "    <tr>\n",
       "      <th>1253</th>\n",
       "      <td>160.139999</td>\n",
       "      <td>162.000000</td>\n",
       "      <td>159.929993</td>\n",
       "      <td>161.470001</td>\n",
       "      <td>161.470001</td>\n",
       "      <td>25966000</td>\n",
       "    </tr>\n",
       "    <tr>\n",
       "      <th>1254</th>\n",
       "      <td>160.100006</td>\n",
       "      <td>163.119995</td>\n",
       "      <td>160.000000</td>\n",
       "      <td>162.910004</td>\n",
       "      <td>162.910004</td>\n",
       "      <td>29516900</td>\n",
       "    </tr>\n",
       "    <tr>\n",
       "      <th>1255</th>\n",
       "      <td>163.800003</td>\n",
       "      <td>163.889999</td>\n",
       "      <td>162.610001</td>\n",
       "      <td>163.350006</td>\n",
       "      <td>163.350006</td>\n",
       "      <td>27269600</td>\n",
       "    </tr>\n",
       "    <tr>\n",
       "      <th>1256</th>\n",
       "      <td>163.639999</td>\n",
       "      <td>164.520004</td>\n",
       "      <td>163.479996</td>\n",
       "      <td>164.000000</td>\n",
       "      <td>164.000000</td>\n",
       "      <td>26785100</td>\n",
       "    </tr>\n",
       "    <tr>\n",
       "      <th>1257</th>\n",
       "      <td>164.800003</td>\n",
       "      <td>164.940002</td>\n",
       "      <td>163.630005</td>\n",
       "      <td>164.050003</td>\n",
       "      <td>164.050003</td>\n",
       "      <td>16552800</td>\n",
       "    </tr>\n",
       "  </tbody>\n",
       "</table>\n",
       "<p>1258 rows × 6 columns</p>\n",
       "</div>"
      ],
      "text/plain": [
       "            Open        High         Low       Close   Adj Close     Volume\n",
       "0      95.108574   96.448570   94.928574   96.424286   87.121140   91973000\n",
       "1      96.510002   96.621429   95.657143   95.747147   86.509338   84093800\n",
       "2      96.167145   96.898575   95.828575   96.610001   87.288956   97799100\n",
       "3      96.864288   97.497147   96.538574   97.205711   87.827171   82416600\n",
       "4      97.207146   97.612854   94.585716   94.677139   85.542564  121999500\n",
       "...          ...         ...         ...         ...         ...        ...\n",
       "1253  160.139999  162.000000  159.929993  161.470001  161.470001   25966000\n",
       "1254  160.100006  163.119995  160.000000  162.910004  162.910004   29516900\n",
       "1255  163.800003  163.889999  162.610001  163.350006  163.350006   27269600\n",
       "1256  163.639999  164.520004  163.479996  164.000000  164.000000   26785100\n",
       "1257  164.800003  164.940002  163.630005  164.050003  164.050003   16552800\n",
       "\n",
       "[1258 rows x 6 columns]"
      ]
     },
     "execution_count": 3,
     "metadata": {},
     "output_type": "execute_result"
    }
   ],
   "source": [
    "del df[\"Date\"]\n",
    "df"
   ]
  },
  {
   "cell_type": "code",
   "execution_count": 4,
   "metadata": {},
   "outputs": [],
   "source": [
    "dfn = df.copy()"
   ]
  },
  {
   "cell_type": "code",
   "execution_count": 5,
   "metadata": {},
   "outputs": [],
   "source": [
    "for i in df.columns:\n",
    "    dfn[i] = MinMaxScaler().fit_transform(np.array(df[i]).reshape(-1,1))"
   ]
  },
  {
   "cell_type": "code",
   "execution_count": 6,
   "metadata": {},
   "outputs": [
    {
     "name": "stdout",
     "output_type": "stream",
     "text": [
      "----------------------\n",
      "Mean\n",
      "----------------------\n"
     ]
    },
    {
     "data": {
      "text/plain": [
       "Open         0.424483\n",
       "High         0.423040\n",
       "Low          0.422843\n",
       "Close        0.425352\n",
       "Adj Close    0.412452\n",
       "Volume       0.148176\n",
       "dtype: float64"
      ]
     },
     "execution_count": 6,
     "metadata": {},
     "output_type": "execute_result"
    }
   ],
   "source": [
    "print('----------------------')\n",
    "print('Mean')\n",
    "print('----------------------')\n",
    "dfn.mean(axis=0)"
   ]
  },
  {
   "cell_type": "code",
   "execution_count": 7,
   "metadata": {},
   "outputs": [
    {
     "name": "stdout",
     "output_type": "stream",
     "text": [
      "-------------------------\n",
      "Var\n",
      "-------------------------\n"
     ]
    },
    {
     "data": {
      "text/plain": [
       "Open         0.055367\n",
       "High         0.057438\n",
       "Low          0.055653\n",
       "Close        0.056649\n",
       "Adj Close    0.056897\n",
       "Volume       0.015468\n",
       "dtype: float64"
      ]
     },
     "execution_count": 7,
     "metadata": {},
     "output_type": "execute_result"
    }
   ],
   "source": [
    "print('-------------------------')\n",
    "print('Var')\n",
    "print('-------------------------')\n",
    "dfn.var(axis=0)"
   ]
  },
  {
   "cell_type": "code",
   "execution_count": 8,
   "metadata": {},
   "outputs": [],
   "source": [
    "# PCA train\n",
    "# ==============================================================================\n",
    "pca_pipe = make_pipeline(StandardScaler(), PCA())\n",
    "pca_pipe.fit(dfn)\n",
    "\n",
    "# Pipeline Model\n",
    "modelo_pca = pca_pipe.named_steps['pca']"
   ]
  },
  {
   "cell_type": "code",
   "execution_count": 9,
   "metadata": {},
   "outputs": [
    {
     "data": {
      "text/html": [
       "<div>\n",
       "<style scoped>\n",
       "    .dataframe tbody tr th:only-of-type {\n",
       "        vertical-align: middle;\n",
       "    }\n",
       "\n",
       "    .dataframe tbody tr th {\n",
       "        vertical-align: top;\n",
       "    }\n",
       "\n",
       "    .dataframe thead th {\n",
       "        text-align: right;\n",
       "    }\n",
       "</style>\n",
       "<table border=\"1\" class=\"dataframe\">\n",
       "  <thead>\n",
       "    <tr style=\"text-align: right;\">\n",
       "      <th></th>\n",
       "      <th>Open</th>\n",
       "      <th>High</th>\n",
       "      <th>Low</th>\n",
       "      <th>Close</th>\n",
       "      <th>Adj Close</th>\n",
       "      <th>Volume</th>\n",
       "    </tr>\n",
       "  </thead>\n",
       "  <tbody>\n",
       "    <tr>\n",
       "      <th>PC1</th>\n",
       "      <td>0.427746</td>\n",
       "      <td>0.427566</td>\n",
       "      <td>0.428410</td>\n",
       "      <td>0.428067</td>\n",
       "      <td>0.428596</td>\n",
       "      <td>-0.289394</td>\n",
       "    </tr>\n",
       "    <tr>\n",
       "      <th>PC2</th>\n",
       "      <td>0.139702</td>\n",
       "      <td>0.147801</td>\n",
       "      <td>0.123497</td>\n",
       "      <td>0.133866</td>\n",
       "      <td>0.101894</td>\n",
       "      <td>0.956600</td>\n",
       "    </tr>\n",
       "    <tr>\n",
       "      <th>PC3</th>\n",
       "      <td>-0.431686</td>\n",
       "      <td>-0.201900</td>\n",
       "      <td>-0.214419</td>\n",
       "      <td>0.014315</td>\n",
       "      <td>0.851969</td>\n",
       "      <td>0.029168</td>\n",
       "    </tr>\n",
       "    <tr>\n",
       "      <th>PC4</th>\n",
       "      <td>0.620523</td>\n",
       "      <td>0.015251</td>\n",
       "      <td>-0.207841</td>\n",
       "      <td>-0.703235</td>\n",
       "      <td>0.277443</td>\n",
       "      <td>0.002713</td>\n",
       "    </tr>\n",
       "    <tr>\n",
       "      <th>PC5</th>\n",
       "      <td>-0.085765</td>\n",
       "      <td>0.700636</td>\n",
       "      <td>-0.695164</td>\n",
       "      <td>0.123659</td>\n",
       "      <td>-0.053851</td>\n",
       "      <td>-0.017551</td>\n",
       "    </tr>\n",
       "    <tr>\n",
       "      <th>PC6</th>\n",
       "      <td>-0.467717</td>\n",
       "      <td>0.513279</td>\n",
       "      <td>0.478316</td>\n",
       "      <td>-0.537403</td>\n",
       "      <td>0.014025</td>\n",
       "      <td>0.000960</td>\n",
       "    </tr>\n",
       "  </tbody>\n",
       "</table>\n",
       "</div>"
      ],
      "text/plain": [
       "         Open      High       Low     Close  Adj Close    Volume\n",
       "PC1  0.427746  0.427566  0.428410  0.428067   0.428596 -0.289394\n",
       "PC2  0.139702  0.147801  0.123497  0.133866   0.101894  0.956600\n",
       "PC3 -0.431686 -0.201900 -0.214419  0.014315   0.851969  0.029168\n",
       "PC4  0.620523  0.015251 -0.207841 -0.703235   0.277443  0.002713\n",
       "PC5 -0.085765  0.700636 -0.695164  0.123659  -0.053851 -0.017551\n",
       "PC6 -0.467717  0.513279  0.478316 -0.537403   0.014025  0.000960"
      ]
     },
     "execution_count": 9,
     "metadata": {},
     "output_type": "execute_result"
    }
   ],
   "source": [
    "# from arrray to dataframe\n",
    "pd.DataFrame(\n",
    "    data    = modelo_pca.components_,\n",
    "    columns = dfn.columns,\n",
    "    index   = ['PC1', 'PC2', 'PC3', 'PC4', 'PC5', 'PC6']\n",
    ")"
   ]
  },
  {
   "cell_type": "code",
   "execution_count": 10,
   "metadata": {},
   "outputs": [
    {
     "data": {
      "image/png": "[encoded data removed]",
      "text/plain": [
       "<Figure size 288x144 with 2 Axes>"
      ]
     },
     "metadata": {
      "needs_background": "light"
     },
     "output_type": "display_data"
    }
   ],
   "source": [
    "# Heatmap components\n",
    "# ==============================================================================\n",
    "fig, ax = plt.subplots(nrows=1, ncols=1, figsize=(4, 2))\n",
    "componentes = modelo_pca.components_\n",
    "plt.imshow(componentes.T, cmap='viridis', aspect='auto')\n",
    "plt.yticks(range(len(dfn.columns)), dfn.columns)\n",
    "plt.xticks(range(len(dfn.columns)), np.arange(modelo_pca.n_components_) + 1)\n",
    "plt.grid(False)\n",
    "plt.colorbar();"
   ]
  },
  {
   "cell_type": "code",
   "execution_count": 11,
   "metadata": {},
   "outputs": [
    {
     "name": "stdout",
     "output_type": "stream",
     "text": [
      "----------------------------------------------------\n",
      "Porcentaje de varianza explicada por cada componente\n",
      "----------------------------------------------------\n",
      "[8.99320258e-01 9.98259321e-02 5.75392234e-04 1.55635837e-04\n",
      " 1.01704339e-04 2.10769913e-05]\n"
     ]
    },
    {
     "data": {
      "image/png": "[encoded data removed]",
      "text/plain": [
       "<Figure size 432x288 with 1 Axes>"
      ]
     },
     "metadata": {
      "needs_background": "light"
     },
     "output_type": "display_data"
    }
   ],
   "source": [
    "# Variance porcentage for each variable\n",
    "# ==============================================================================\n",
    "print('----------------------------------------------------')\n",
    "print('Porcentaje de varianza explicada por cada componente')\n",
    "print('----------------------------------------------------')\n",
    "print(modelo_pca.explained_variance_ratio_)\n",
    "\n",
    "fig, ax = plt.subplots(nrows=1, ncols=1, figsize=(6, 4))\n",
    "ax.bar(\n",
    "    x      = np.arange(modelo_pca.n_components_) + 1,\n",
    "    height = modelo_pca.explained_variance_ratio_\n",
    ")\n",
    "\n",
    "for x, y in zip(np.arange(len(dfn.columns)) + 1, modelo_pca.explained_variance_ratio_):\n",
    "    label = round(y, 2)\n",
    "    ax.annotate(\n",
    "        label,\n",
    "        (x,y),\n",
    "        textcoords=\"offset points\",\n",
    "        xytext=(0,10),\n",
    "        ha='center'\n",
    "    )\n",
    "\n",
    "ax.set_xticks(np.arange(modelo_pca.n_components_) + 1)\n",
    "ax.set_ylim(0, 1.1)\n",
    "ax.set_title('Porcentaje de varianza explicada por cada componente')\n",
    "ax.set_xlabel('Componente principal')\n",
    "ax.set_ylabel('Por. varianza explicada');"
   ]
  },
  {
   "cell_type": "code",
   "execution_count": 12,
   "metadata": {
    "scrolled": true
   },
   "outputs": [
    {
     "data": {
      "text/html": [
       "<div>\n",
       "<style scoped>\n",
       "    .dataframe tbody tr th:only-of-type {\n",
       "        vertical-align: middle;\n",
       "    }\n",
       "\n",
       "    .dataframe tbody tr th {\n",
       "        vertical-align: top;\n",
       "    }\n",
       "\n",
       "    .dataframe thead th {\n",
       "        text-align: right;\n",
       "    }\n",
       "</style>\n",
       "<table border=\"1\" class=\"dataframe\">\n",
       "  <thead>\n",
       "    <tr style=\"text-align: right;\">\n",
       "      <th></th>\n",
       "      <th>Open</th>\n",
       "      <th>High</th>\n",
       "      <th>Low</th>\n",
       "      <th>Close</th>\n",
       "      <th>Adj Close</th>\n",
       "      <th>Volume</th>\n",
       "    </tr>\n",
       "  </thead>\n",
       "  <tbody>\n",
       "    <tr>\n",
       "      <th>0</th>\n",
       "      <td>95.108574</td>\n",
       "      <td>96.448570</td>\n",
       "      <td>94.928574</td>\n",
       "      <td>96.424286</td>\n",
       "      <td>87.121140</td>\n",
       "      <td>91973000</td>\n",
       "    </tr>\n",
       "    <tr>\n",
       "      <th>1</th>\n",
       "      <td>96.510002</td>\n",
       "      <td>96.621429</td>\n",
       "      <td>95.657143</td>\n",
       "      <td>95.747147</td>\n",
       "      <td>86.509338</td>\n",
       "      <td>84093800</td>\n",
       "    </tr>\n",
       "    <tr>\n",
       "      <th>2</th>\n",
       "      <td>96.167145</td>\n",
       "      <td>96.898575</td>\n",
       "      <td>95.828575</td>\n",
       "      <td>96.610001</td>\n",
       "      <td>87.288956</td>\n",
       "      <td>97799100</td>\n",
       "    </tr>\n",
       "    <tr>\n",
       "      <th>3</th>\n",
       "      <td>96.864288</td>\n",
       "      <td>97.497147</td>\n",
       "      <td>96.538574</td>\n",
       "      <td>97.205711</td>\n",
       "      <td>87.827171</td>\n",
       "      <td>82416600</td>\n",
       "    </tr>\n",
       "    <tr>\n",
       "      <th>4</th>\n",
       "      <td>97.207146</td>\n",
       "      <td>97.612854</td>\n",
       "      <td>94.585716</td>\n",
       "      <td>94.677139</td>\n",
       "      <td>85.542564</td>\n",
       "      <td>121999500</td>\n",
       "    </tr>\n",
       "    <tr>\n",
       "      <th>...</th>\n",
       "      <td>...</td>\n",
       "      <td>...</td>\n",
       "      <td>...</td>\n",
       "      <td>...</td>\n",
       "      <td>...</td>\n",
       "      <td>...</td>\n",
       "    </tr>\n",
       "    <tr>\n",
       "      <th>1253</th>\n",
       "      <td>160.139999</td>\n",
       "      <td>162.000000</td>\n",
       "      <td>159.929993</td>\n",
       "      <td>161.470001</td>\n",
       "      <td>161.470001</td>\n",
       "      <td>25966000</td>\n",
       "    </tr>\n",
       "    <tr>\n",
       "      <th>1254</th>\n",
       "      <td>160.100006</td>\n",
       "      <td>163.119995</td>\n",
       "      <td>160.000000</td>\n",
       "      <td>162.910004</td>\n",
       "      <td>162.910004</td>\n",
       "      <td>29516900</td>\n",
       "    </tr>\n",
       "    <tr>\n",
       "      <th>1255</th>\n",
       "      <td>163.800003</td>\n",
       "      <td>163.889999</td>\n",
       "      <td>162.610001</td>\n",
       "      <td>163.350006</td>\n",
       "      <td>163.350006</td>\n",
       "      <td>27269600</td>\n",
       "    </tr>\n",
       "    <tr>\n",
       "      <th>1256</th>\n",
       "      <td>163.639999</td>\n",
       "      <td>164.520004</td>\n",
       "      <td>163.479996</td>\n",
       "      <td>164.000000</td>\n",
       "      <td>164.000000</td>\n",
       "      <td>26785100</td>\n",
       "    </tr>\n",
       "    <tr>\n",
       "      <th>1257</th>\n",
       "      <td>164.800003</td>\n",
       "      <td>164.940002</td>\n",
       "      <td>163.630005</td>\n",
       "      <td>164.050003</td>\n",
       "      <td>164.050003</td>\n",
       "      <td>16552800</td>\n",
       "    </tr>\n",
       "  </tbody>\n",
       "</table>\n",
       "<p>1258 rows × 6 columns</p>\n",
       "</div>"
      ],
      "text/plain": [
       "            Open        High         Low       Close   Adj Close     Volume\n",
       "0      95.108574   96.448570   94.928574   96.424286   87.121140   91973000\n",
       "1      96.510002   96.621429   95.657143   95.747147   86.509338   84093800\n",
       "2      96.167145   96.898575   95.828575   96.610001   87.288956   97799100\n",
       "3      96.864288   97.497147   96.538574   97.205711   87.827171   82416600\n",
       "4      97.207146   97.612854   94.585716   94.677139   85.542564  121999500\n",
       "...          ...         ...         ...         ...         ...        ...\n",
       "1253  160.139999  162.000000  159.929993  161.470001  161.470001   25966000\n",
       "1254  160.100006  163.119995  160.000000  162.910004  162.910004   29516900\n",
       "1255  163.800003  163.889999  162.610001  163.350006  163.350006   27269600\n",
       "1256  163.639999  164.520004  163.479996  164.000000  164.000000   26785100\n",
       "1257  164.800003  164.940002  163.630005  164.050003  164.050003   16552800\n",
       "\n",
       "[1258 rows x 6 columns]"
      ]
     },
     "execution_count": 12,
     "metadata": {},
     "output_type": "execute_result"
    }
   ],
   "source": [
    "df"
   ]
  },
  {
   "cell_type": "code",
   "execution_count": 13,
   "metadata": {
    "id": "PURXIHKhqbEk"
   },
   "outputs": [],
   "source": [
    "df = df['Close'].values\n",
    "df1 = df.reshape(-1, 1)"
   ]
  },
  {
   "cell_type": "markdown",
   "metadata": {
    "id": "WQpDveLjj1SG"
   },
   "source": [
    "After extracting one column:\n"
   ]
  },
  {
   "cell_type": "code",
   "execution_count": 14,
   "metadata": {
    "colab": {
     "base_uri": "https://localhost:8080/"
    },
    "id": "6KsMByP1qcjE",
    "outputId": "c93daa2d-b1b0-4d2e-801e-3f57612eb955"
   },
   "outputs": [
    {
     "data": {
      "text/plain": [
       "(1258, 1)"
      ]
     },
     "execution_count": 14,
     "metadata": {},
     "output_type": "execute_result"
    }
   ],
   "source": [
    "df1.shape"
   ]
  },
  {
   "cell_type": "code",
   "execution_count": 15,
   "metadata": {},
   "outputs": [
    {
     "data": {
      "text/plain": [
       "array([96.424286])"
      ]
     },
     "execution_count": 15,
     "metadata": {},
     "output_type": "execute_result"
    }
   ],
   "source": [
    "df1[0]"
   ]
  },
  {
   "cell_type": "code",
   "execution_count": 16,
   "metadata": {
    "colab": {
     "base_uri": "https://localhost:8080/"
    },
    "id": "khGr_t8Wqc5a",
    "outputId": "b157971b-24b1-4a56-bd6e-d79b0e732de7"
   },
   "outputs": [
    {
     "name": "stdout",
     "output_type": "stream",
     "text": [
      "(880, 1)\n",
      "(378, 1)\n"
     ]
    }
   ],
   "source": [
    "dataset_train = np.array(df1[:int(df1.shape[0]*0.7)])\n",
    "dataset_test = np.array(df1[int(df1.shape[0]*0.7):])\n",
    "print(dataset_train.shape)\n",
    "print(dataset_test.shape)"
   ]
  },
  {
   "cell_type": "code",
   "execution_count": 17,
   "metadata": {},
   "outputs": [],
   "source": [
    "df_pca = dfn['Open'].values\n",
    "df_pca = df_pca.reshape(-1, 1)"
   ]
  },
  {
   "cell_type": "code",
   "execution_count": 18,
   "metadata": {},
   "outputs": [
    {
     "name": "stdout",
     "output_type": "stream",
     "text": [
      "(880, 1)\n",
      "(378, 1)\n"
     ]
    }
   ],
   "source": [
    "dataset_train_n = np.array(df_pca[:int(df_pca.shape[0]*0.7)])\n",
    "dataset_test_n = np.array(df_pca[int(df_pca.shape[0]*0.7):])\n",
    "print(dataset_train_n.shape)\n",
    "print(dataset_test_n.shape)"
   ]
  },
  {
   "cell_type": "code",
   "execution_count": 19,
   "metadata": {},
   "outputs": [
    {
     "data": {
      "text/plain": [
       "array([[0.3628254 ],\n",
       "       [0.37563837],\n",
       "       [0.3725037 ],\n",
       "       [0.37887753],\n",
       "       [0.38201222],\n",
       "       [0.36197642],\n",
       "       [0.364249  ],\n",
       "       [0.37798936],\n",
       "       [0.39443331],\n",
       "       [0.40669774],\n",
       "       [0.40738998],\n",
       "       [0.40788628],\n",
       "       [0.40644955],\n",
       "       [0.41069443],\n",
       "       [0.39038437],\n",
       "       [0.39221297],\n",
       "       [0.3667176 ],\n",
       "       [0.36090542],\n",
       "       [0.37979181],\n",
       "       [0.36987836],\n",
       "       [0.35766625],\n",
       "       [0.3616499 ],\n",
       "       [0.36999597],\n",
       "       [0.36209396],\n",
       "       [0.33816596],\n",
       "       [0.32741666],\n",
       "       [0.32884027],\n",
       "       [0.33766959],\n",
       "       [0.31554403],\n",
       "       [0.31918812],\n",
       "       [0.32313257],\n",
       "       [0.34076514],\n",
       "       [0.3286444 ],\n",
       "       [0.31749018],\n",
       "       [0.29315726],\n",
       "       [0.31742488],\n",
       "       [0.30493843],\n",
       "       [0.30305758],\n",
       "       [0.28925201],\n",
       "       [0.27024802],\n",
       "       [0.27461043],\n",
       "       [0.27156721],\n",
       "       [0.25541058],\n",
       "       [0.26417461],\n",
       "       [0.24276738],\n",
       "       [0.22551358],\n",
       "       [0.19911707],\n",
       "       [0.21704999],\n",
       "       [0.19714484],\n",
       "       [0.20575214],\n",
       "       [0.1953424 ],\n",
       "       [0.17923801],\n",
       "       [0.19949584],\n",
       "       [0.24024661],\n",
       "       [0.23024173],\n",
       "       [0.23405559],\n",
       "       [0.245458  ],\n",
       "       [0.26328643],\n",
       "       [0.24724733],\n",
       "       [0.26416156],\n",
       "       [0.25968154],\n",
       "       [0.26864151],\n",
       "       [0.25316407],\n",
       "       [0.23632825],\n",
       "       [0.18412289],\n",
       "       [0.21607043],\n",
       "       [0.17897678],\n",
       "       [0.19826809],\n",
       "       [0.20871696],\n",
       "       [0.18700938],\n",
       "       [0.1655891 ],\n",
       "       [0.15798753],\n",
       "       [0.17897678],\n",
       "       [0.18742734],\n",
       "       [0.18550736],\n",
       "       [0.16261117],\n",
       "       [0.17290337],\n",
       "       [0.17114013],\n",
       "       [0.16400869],\n",
       "       [0.15976388],\n",
       "       [0.16007729],\n",
       "       [0.21661898],\n",
       "       [0.20886066],\n",
       "       [0.19461096],\n",
       "       [0.17505842],\n",
       "       [0.18447549],\n",
       "       [0.17571152],\n",
       "       [0.18361347],\n",
       "       [0.17375235],\n",
       "       [0.14982435],\n",
       "       [0.14410355],\n",
       "       [0.13932316],\n",
       "       [0.15978997],\n",
       "       [0.14439086],\n",
       "       [0.15227983],\n",
       "       [0.15783078],\n",
       "       [0.09407939],\n",
       "       [0.08322559],\n",
       "       [0.06512283],\n",
       "       [0.09212021],\n",
       "       [0.09016103],\n",
       "       [0.09013494],\n",
       "       [0.09291694],\n",
       "       [0.08612513],\n",
       "       [0.07324687],\n",
       "       [0.08946879],\n",
       "       [0.09832427],\n",
       "       [0.11236499],\n",
       "       [0.11563024],\n",
       "       [0.11956165],\n",
       "       [0.10349646],\n",
       "       [0.09998302],\n",
       "       [0.10563847],\n",
       "       [0.09551611],\n",
       "       [0.09106225],\n",
       "       [0.0757938 ],\n",
       "       [0.08003868],\n",
       "       [0.0860468 ],\n",
       "       [0.07294647],\n",
       "       [0.07896767],\n",
       "       [0.07324687],\n",
       "       [0.06534489],\n",
       "       [0.05202251],\n",
       "       [0.04376789],\n",
       "       [0.06078654],\n",
       "       [0.04771234],\n",
       "       [0.05463476],\n",
       "       [0.05456943],\n",
       "       [0.06221022],\n",
       "       [0.05287148],\n",
       "       [0.05859228],\n",
       "       [0.06525344],\n",
       "       [0.06985096],\n",
       "       [0.09342635],\n",
       "       [0.09070958],\n",
       "       [0.08130562],\n",
       "       [0.08700026],\n",
       "       [0.10020505],\n",
       "       [0.10118467],\n",
       "       [0.08945574],\n",
       "       [0.08078316],\n",
       "       [0.07043872],\n",
       "       [0.05176127],\n",
       "       [0.05668535],\n",
       "       [0.05980695],\n",
       "       [0.04771234],\n",
       "       [0.04816947],\n",
       "       [0.05014172],\n",
       "       [0.05241435],\n",
       "       [0.0597547 ],\n",
       "       [0.06031632],\n",
       "       [0.05097762],\n",
       "       [0.04388542],\n",
       "       [0.04218746],\n",
       "       [0.02223004],\n",
       "       [0.        ],\n",
       "       [0.00609953],\n",
       "       [0.02092393],\n",
       "       [0.00727506],\n",
       "       [0.03038021],\n",
       "       [0.02852552],\n",
       "       [0.04242257],\n",
       "       [0.06155715],\n",
       "       [0.07378237],\n",
       "       [0.07028197],\n",
       "       [0.08272923],\n",
       "       [0.08847612],\n",
       "       [0.10057077],\n",
       "       [0.09282549],\n",
       "       [0.0938312 ],\n",
       "       [0.09142797],\n",
       "       [0.08299046],\n",
       "       [0.0860468 ],\n",
       "       [0.06685998],\n",
       "       [0.04606662],\n",
       "       [0.06671629],\n",
       "       [0.05739063],\n",
       "       [0.06554079],\n",
       "       [0.07324687],\n",
       "       [0.06266735],\n",
       "       [0.06906731],\n",
       "       [0.08088765],\n",
       "       [0.0679571 ],\n",
       "       [0.07533667],\n",
       "       [0.08428355],\n",
       "       [0.0819717 ],\n",
       "       [0.08522391],\n",
       "       [0.07533667],\n",
       "       [0.07510156],\n",
       "       [0.06338571],\n",
       "       [0.07413501],\n",
       "       [0.06239307],\n",
       "       [0.06730403],\n",
       "       [0.05816124],\n",
       "       [0.06194899],\n",
       "       [0.05677676],\n",
       "       [0.0569335 ],\n",
       "       [0.05672452],\n",
       "       [0.04092056],\n",
       "       [0.0398626 ],\n",
       "       [0.0253778 ],\n",
       "       [0.02315739],\n",
       "       [0.0208064 ],\n",
       "       [0.01473295],\n",
       "       [0.00442774],\n",
       "       [0.01922599],\n",
       "       [0.02872146],\n",
       "       [0.04295807],\n",
       "       [0.04234421],\n",
       "       [0.04197849],\n",
       "       [0.03347568],\n",
       "       [0.04131237],\n",
       "       [0.04568787],\n",
       "       [0.0518266 ],\n",
       "       [0.04837845],\n",
       "       [0.05035067],\n",
       "       [0.05450414],\n",
       "       [0.05931064],\n",
       "       [0.05894492],\n",
       "       [0.05419067],\n",
       "       [0.04967151],\n",
       "       [0.06655955],\n",
       "       [0.06887137],\n",
       "       [0.06181837],\n",
       "       [0.06900199],\n",
       "       [0.08096599],\n",
       "       [0.08753576],\n",
       "       [0.08852837],\n",
       "       [0.09148021],\n",
       "       [0.10020505],\n",
       "       [0.10455442],\n",
       "       [0.0990426 ],\n",
       "       [0.09912101],\n",
       "       [0.09230304],\n",
       "       [0.08997821],\n",
       "       [0.10836829],\n",
       "       [0.143555  ],\n",
       "       [0.14164807],\n",
       "       [0.14651983],\n",
       "       [0.15199245],\n",
       "       [0.15900628],\n",
       "       [0.15101289],\n",
       "       [0.15282837],\n",
       "       [0.15059493],\n",
       "       [0.14730351],\n",
       "       [0.14371173],\n",
       "       [0.12803837],\n",
       "       [0.13541792],\n",
       "       [0.13587501],\n",
       "       [0.13731174],\n",
       "       [0.14574925],\n",
       "       [0.14665048],\n",
       "       [0.14428637],\n",
       "       [0.15285453],\n",
       "       [0.15442184],\n",
       "       [0.10323524],\n",
       "       [0.10518137],\n",
       "       [0.10627846],\n",
       "       [0.09538547],\n",
       "       [0.07835377],\n",
       "       [0.09823282],\n",
       "       [0.10805482],\n",
       "       [0.11758942],\n",
       "       [0.1412301 ],\n",
       "       [0.13963664],\n",
       "       [0.13221789],\n",
       "       [0.12803837],\n",
       "       [0.12513875],\n",
       "       [0.11660987],\n",
       "       [0.11817716],\n",
       "       [0.1275551 ],\n",
       "       [0.13392895],\n",
       "       [0.12524325],\n",
       "       [0.12876973],\n",
       "       [0.13318446],\n",
       "       [0.126262  ],\n",
       "       [0.13498684],\n",
       "       [0.12933139],\n",
       "       [0.13304077],\n",
       "       [0.14307175],\n",
       "       [0.14735576],\n",
       "       [0.1462978 ],\n",
       "       [0.15414756],\n",
       "       [0.16169691],\n",
       "       [0.18081843],\n",
       "       [0.17114013],\n",
       "       [0.17897678],\n",
       "       [0.1872314 ],\n",
       "       [0.18425347],\n",
       "       [0.1936967 ],\n",
       "       [0.17193686],\n",
       "       [0.17897678],\n",
       "       [0.1776968 ],\n",
       "       [0.17388293],\n",
       "       [0.17842823],\n",
       "       [0.17786658],\n",
       "       [0.17189766],\n",
       "       [0.16536708],\n",
       "       [0.17243316],\n",
       "       [0.16940298],\n",
       "       [0.16983399],\n",
       "       [0.17611638],\n",
       "       [0.18104046],\n",
       "       [0.17896374],\n",
       "       [0.17117927],\n",
       "       [0.17144049],\n",
       "       [0.16931153],\n",
       "       [0.17181925],\n",
       "       [0.17377844],\n",
       "       [0.17782738],\n",
       "       [0.19374894],\n",
       "       [0.21095049],\n",
       "       [0.22207855],\n",
       "       [0.22247036],\n",
       "       [0.23187438],\n",
       "       [0.24121312],\n",
       "       [0.23225315],\n",
       "       [0.22586627],\n",
       "       [0.22936666],\n",
       "       [0.23383357],\n",
       "       [0.22748588],\n",
       "       [0.2284132 ],\n",
       "       [0.21818635],\n",
       "       [0.21921815],\n",
       "       [0.2112378 ],\n",
       "       [0.21097657],\n",
       "       [0.20566069],\n",
       "       [0.23513971],\n",
       "       [0.23760823],\n",
       "       [0.23527029],\n",
       "       [0.22968013],\n",
       "       [0.22137327],\n",
       "       [0.21707614],\n",
       "       [0.21904837],\n",
       "       [0.21536514],\n",
       "       [0.19523791],\n",
       "       [0.20421092],\n",
       "       [0.1970142 ],\n",
       "       [0.20745009],\n",
       "       [0.19834642],\n",
       "       [0.18538982],\n",
       "       [0.19624362],\n",
       "       [0.21622716],\n",
       "       [0.21802961],\n",
       "       [0.21356271],\n",
       "       [0.19986155],\n",
       "       [0.21281822],\n",
       "       [0.21155128],\n",
       "       [0.21685411],\n",
       "       [0.21172106],\n",
       "       [0.15776549],\n",
       "       [0.1514831 ],\n",
       "       [0.14964146],\n",
       "       [0.14002845],\n",
       "       [0.14973291],\n",
       "       [0.15396467],\n",
       "       [0.15489205],\n",
       "       [0.15946345],\n",
       "       [0.17424865],\n",
       "       [0.17069601],\n",
       "       [0.1863041 ],\n",
       "       [0.19458487],\n",
       "       [0.19159382],\n",
       "       [0.20179457],\n",
       "       [0.20640517],\n",
       "       [0.20477251],\n",
       "       [0.18941261],\n",
       "       [0.18915138],\n",
       "       [0.17656051],\n",
       "       [0.18469759],\n",
       "       [0.1771613 ],\n",
       "       [0.16871074],\n",
       "       [0.18430571],\n",
       "       [0.17691311],\n",
       "       [0.18681344],\n",
       "       [0.18670895],\n",
       "       [0.18915138],\n",
       "       [0.18693104],\n",
       "       [0.18336535],\n",
       "       [0.19262569],\n",
       "       [0.19139795],\n",
       "       [0.19522486],\n",
       "       [0.18392695],\n",
       "       [0.18250327],\n",
       "       [0.18015228],\n",
       "       [0.18845914],\n",
       "       [0.18536367],\n",
       "       [0.18802813],\n",
       "       [0.19650485],\n",
       "       [0.20052764],\n",
       "       [0.20708437],\n",
       "       [0.19859461],\n",
       "       [0.1963742 ],\n",
       "       [0.19756281],\n",
       "       [0.19564283],\n",
       "       [0.20167704],\n",
       "       [0.20038401],\n",
       "       [0.19832034],\n",
       "       [0.18292123],\n",
       "       [0.17922496],\n",
       "       [0.17589435],\n",
       "       [0.18639554],\n",
       "       [0.17114013],\n",
       "       [0.17492784],\n",
       "       [0.17279888],\n",
       "       [0.16989927],\n",
       "       [0.1724462 ],\n",
       "       [0.17942084],\n",
       "       [0.1833    ],\n",
       "       [0.18427962],\n",
       "       [0.23541398],\n",
       "       [0.23060745],\n",
       "       [0.24140906],\n",
       "       [0.26875905],\n",
       "       [0.26732233],\n",
       "       [0.26648639],\n",
       "       [0.26693052],\n",
       "       [0.26405707],\n",
       "       [0.27928632],\n",
       "       [0.27073127],\n",
       "       [0.26158847],\n",
       "       [0.2567428 ],\n",
       "       [0.2605958 ],\n",
       "       [0.26648639],\n",
       "       [0.26704805],\n",
       "       [0.27001295],\n",
       "       [0.26208477],\n",
       "       [0.27412718],\n",
       "       [0.28282592],\n",
       "       [0.28193774],\n",
       "       [0.28555568],\n",
       "       [0.28640465],\n",
       "       [0.29767641],\n",
       "       [0.31092039],\n",
       "       [0.31331059],\n",
       "       [0.32654152],\n",
       "       [0.32129093],\n",
       "       [0.31410732],\n",
       "       [0.32583625],\n",
       "       [0.33727778],\n",
       "       [0.34211041],\n",
       "       [0.34080427],\n",
       "       [0.3593642 ],\n",
       "       [0.35387847],\n",
       "       [0.35305565],\n",
       "       [0.33623287],\n",
       "       [0.32992438],\n",
       "       [0.33723858],\n",
       "       [0.33687286],\n",
       "       [0.33705576],\n",
       "       [0.3330329 ],\n",
       "       [0.32818723],\n",
       "       [0.32297584],\n",
       "       [0.31803872],\n",
       "       [0.3195016 ],\n",
       "       [0.32361584],\n",
       "       [0.3353186 ],\n",
       "       [0.34830136],\n",
       "       [0.35150139],\n",
       "       [0.34967279],\n",
       "       [0.35396991],\n",
       "       [0.37344405],\n",
       "       [0.36585558],\n",
       "       [0.35049568],\n",
       "       [0.36512414],\n",
       "       [0.36969554],\n",
       "       [0.37828979],\n",
       "       [0.37984405],\n",
       "       [0.362107  ],\n",
       "       [0.34921569],\n",
       "       [0.36174128],\n",
       "       [0.35890703],\n",
       "       [0.36567268],\n",
       "       [0.38048404],\n",
       "       [0.37874688],\n",
       "       [0.38761542],\n",
       "       [0.40142106],\n",
       "       [0.39328397],\n",
       "       [0.38158121],\n",
       "       [0.36091847],\n",
       "       [0.37435839],\n",
       "       [0.36512414],\n",
       "       [0.35954703],\n",
       "       [0.36119273],\n",
       "       [0.35506708],\n",
       "       [0.36430126],\n",
       "       [0.37134125],\n",
       "       [0.37234696],\n",
       "       [0.38313546],\n",
       "       [0.38834686],\n",
       "       [0.39374107],\n",
       "       [0.4021525 ],\n",
       "       [0.41156956],\n",
       "       [0.41275811],\n",
       "       [0.41019813],\n",
       "       [0.42391233],\n",
       "       [0.42052947],\n",
       "       [0.41687234],\n",
       "       [0.42208372],\n",
       "       [0.43369512],\n",
       "       [0.43552365],\n",
       "       [0.43588937],\n",
       "       [0.39703248],\n",
       "       [0.39657538],\n",
       "       [0.40114678],\n",
       "       [0.39913536],\n",
       "       [0.38935257],\n",
       "       [0.4112953 ],\n",
       "       [0.41860949],\n",
       "       [0.43323796],\n",
       "       [0.40571818],\n",
       "       [0.41915804],\n",
       "       [0.42519231],\n",
       "       [0.42848373],\n",
       "       [0.42400378],\n",
       "       [0.41303237],\n",
       "       [0.42729519],\n",
       "       [0.41220956],\n",
       "       [0.39410679],\n",
       "       [0.39520396],\n",
       "       [0.41495236],\n",
       "       [0.41294093],\n",
       "       [0.40087244],\n",
       "       [0.40242677],\n",
       "       [0.40708955],\n",
       "       [0.40233532],\n",
       "       [0.39620966],\n",
       "       [0.42162663],\n",
       "       [0.41385526],\n",
       "       [0.41970665],\n",
       "       [0.4111124 ],\n",
       "       [0.38898684],\n",
       "       [0.36686129],\n",
       "       [0.38468972],\n",
       "       [0.39218681],\n",
       "       [0.43515793],\n",
       "       [0.43351222],\n",
       "       [0.44484934],\n",
       "       [0.4549064 ],\n",
       "       [0.45188926],\n",
       "       [0.45691784],\n",
       "       [0.46834633],\n",
       "       [0.47118057],\n",
       "       [0.48078054],\n",
       "       [0.48270052],\n",
       "       [0.4931233 ],\n",
       "       [0.49074615],\n",
       "       [0.48617475],\n",
       "       [0.48754619],\n",
       "       [0.49001472],\n",
       "       [0.48708902],\n",
       "       [0.49330612],\n",
       "       [0.51543175],\n",
       "       [0.52777452],\n",
       "       [0.5380144 ],\n",
       "       [0.53499732],\n",
       "       [0.54871152],\n",
       "       [0.54386586],\n",
       "       [0.56763711],\n",
       "       [0.56160283],\n",
       "       [0.58189986],\n",
       "       [0.57156851],\n",
       "       [0.58372839],\n",
       "       [0.57952271],\n",
       "       [0.53097448],\n",
       "       [0.55154577],\n",
       "       [0.5517286 ],\n",
       "       [0.55374002],\n",
       "       [0.53646014],\n",
       "       [0.50071184],\n",
       "       [0.53929446],\n",
       "       [0.51963743],\n",
       "       [0.50318036],\n",
       "       [0.50537462],\n",
       "       [0.46578636],\n",
       "       [0.47264346],\n",
       "       [0.51607174],\n",
       "       [0.51963743],\n",
       "       [0.51872316],\n",
       "       [0.52850595],\n",
       "       [0.52256312],\n",
       "       [0.51817454],\n",
       "       [0.5336259 ],\n",
       "       [0.53225446],\n",
       "       [0.52475737],\n",
       "       [0.51168316],\n",
       "       [0.48334051],\n",
       "       [0.46734062],\n",
       "       [0.47337483],\n",
       "       [0.49193476],\n",
       "       [0.52338594],\n",
       "       [0.52274594],\n",
       "       [0.51204889],\n",
       "       [0.49019761],\n",
       "       [0.49897469],\n",
       "       [0.47182057],\n",
       "       [0.47922621],\n",
       "       [0.48937472],\n",
       "       [0.50135183],\n",
       "       [0.52000315],\n",
       "       [0.53316873],\n",
       "       [0.52110024],\n",
       "       [0.5687342 ],\n",
       "       [0.55675716],\n",
       "       [0.5757742 ],\n",
       "       [0.57257423],\n",
       "       [0.57668846],\n",
       "       [0.57668846],\n",
       "       [0.59058549],\n",
       "       [0.59058549],\n",
       "       [0.57714563],\n",
       "       [0.59195691],\n",
       "       [0.61572818],\n",
       "       [0.64580799],\n",
       "       [0.65696221],\n",
       "       [0.65888219],\n",
       "       [0.66016217],\n",
       "       [0.66793354],\n",
       "       [0.66921352],\n",
       "       [0.68201352],\n",
       "       [0.70871047],\n",
       "       [0.69609338],\n",
       "       [0.67076778],\n",
       "       [0.68183063],\n",
       "       [0.67497353],\n",
       "       [0.67232218],\n",
       "       [0.67360217],\n",
       "       [0.66884788],\n",
       "       [0.6672021 ],\n",
       "       [0.66317931],\n",
       "       [0.64900802],\n",
       "       [0.63383094],\n",
       "       [0.6115225 ],\n",
       "       [0.63063098],\n",
       "       [0.62587668],\n",
       "       [0.64434518],\n",
       "       [0.65440224],\n",
       "       [0.67040213],\n",
       "       [0.66583073],\n",
       "       [0.6554994 ],\n",
       "       [0.65650511],\n",
       "       [0.65019656],\n",
       "       [0.6156368 ],\n",
       "       [0.63218524],\n",
       "       [0.62743101],\n",
       "       [0.64608226],\n",
       "       [0.63447094],\n",
       "       [0.63639092],\n",
       "       [0.63127097],\n",
       "       [0.66025362],\n",
       "       [0.643888  ],\n",
       "       [0.643888  ],\n",
       "       [0.64480227],\n",
       "       [0.66692782],\n",
       "       [0.65440224],\n",
       "       [0.64900802],\n",
       "       [0.64781941],\n",
       "       [0.64114521],\n",
       "       [0.64132804],\n",
       "       [0.66445937],\n",
       "       [0.65431079],\n",
       "       [0.6662879 ],\n",
       "       [0.68631065],\n",
       "       [0.70295047],\n",
       "       [0.72260757],\n",
       "       [0.68329351],\n",
       "       [0.66939642],\n",
       "       [0.6461737 ],\n",
       "       [0.67725923],\n",
       "       [0.6649164 ],\n",
       "       [0.65037939],\n",
       "       [0.63401377],\n",
       "       [0.65147654],\n",
       "       [0.65796792],\n",
       "       [0.6416023 ],\n",
       "       [0.64663088],\n",
       "       [0.65815082],\n",
       "       [0.67332789],\n",
       "       [0.66701934],\n",
       "       [0.68813918],\n",
       "       [0.68183063],\n",
       "       [0.68247069],\n",
       "       [0.69645916],\n",
       "       [0.70560196],\n",
       "       [0.68493914],\n",
       "       [0.69883624],\n",
       "       [0.69307623],\n",
       "       [0.6843906 ],\n",
       "       [0.68055065],\n",
       "       [0.68786491],\n",
       "       [0.67799067],\n",
       "       [0.67725923],\n",
       "       [0.6717735 ],\n",
       "       [0.65165937],\n",
       "       [0.66281359],\n",
       "       [0.67433347],\n",
       "       [0.66528219],\n",
       "       [0.6461737 ],\n",
       "       [0.65467651],\n",
       "       [0.66098506],\n",
       "       [0.65650511],\n",
       "       [0.66089361],\n",
       "       [0.65888219],\n",
       "       [0.65879081],\n",
       "       [0.65632222],\n",
       "       [0.67140785],\n",
       "       [0.66052789],\n",
       "       [0.64032232],\n",
       "       [0.64132804],\n",
       "       [0.65348798],\n",
       "       [0.64919084],\n",
       "       [0.63556809],\n",
       "       [0.64425372],\n",
       "       [0.63136242],\n",
       "       [0.62560241],\n",
       "       [0.6081397 ],\n",
       "       [0.63639092],\n",
       "       [0.64562516],\n",
       "       [0.64269947],\n",
       "       [0.66116789],\n",
       "       [0.67341927],\n",
       "       [0.69069915],\n",
       "       [0.70788766],\n",
       "       [0.60859681],\n",
       "       [0.64708797],\n",
       "       [0.63904234],\n",
       "       [0.61865386],\n",
       "       [0.62130528],\n",
       "       [0.61920249],\n",
       "       [0.61161395],\n",
       "       [0.61417391],\n",
       "       [0.60411685],\n",
       "       [0.56681422],\n",
       "       [0.52594591],\n",
       "       [0.55355719],\n",
       "       [0.54084872],\n",
       "       [0.55867714],\n",
       "       [0.57037991],\n",
       "       [0.52210595],\n",
       "       [0.55419719],\n",
       "       [0.53847157],\n",
       "       [0.55419719],\n",
       "       [0.55776287],\n",
       "       [0.55474573],\n",
       "       [0.53627732],\n",
       "       [0.50290609],\n",
       "       [0.36064419],\n",
       "       [0.5091232 ],\n",
       "       [0.47236911],\n",
       "       [0.51936315],\n",
       "       [0.51881454],\n",
       "       [0.51753455],\n",
       "       [0.50034612],\n",
       "       [0.50107756],\n",
       "       [0.52174023],\n",
       "       [0.48955761],\n",
       "       [0.51497458],\n",
       "       [0.53335162],\n",
       "       [0.50144321],\n",
       "       [0.5153403 ],\n",
       "       [0.55913431],\n",
       "       [0.55319147],\n",
       "       [0.55611717],\n",
       "       [0.55072295],\n",
       "       [0.51918026],\n",
       "       [0.53252873],\n",
       "       [0.52987731],\n",
       "       [0.53216301],\n",
       "       [0.52868878],\n",
       "       [0.55785432],\n",
       "       [0.53417444],\n",
       "       [0.52484882],\n",
       "       [0.50052894],\n",
       "       [0.49047188],\n",
       "       [0.48078054],\n",
       "       [0.49787752],\n",
       "       [0.50473462],\n",
       "       [0.51488313],\n",
       "       [0.50071184],\n",
       "       [0.49897469],\n",
       "       [0.52393455],\n",
       "       [0.50647178],\n",
       "       [0.5107689 ],\n",
       "       [0.50747749],\n",
       "       [0.51524886],\n",
       "       [0.50628895],\n",
       "       [0.511226  ],\n",
       "       [0.53554587],\n",
       "       [0.53856302],\n",
       "       [0.5602314 ],\n",
       "       [0.57284851],\n",
       "       [0.54834581],\n",
       "       [0.56233427],\n",
       "       [0.57851699],\n",
       "       [0.59945401],\n",
       "       [0.59771692],\n",
       "       [0.59762548],\n",
       "       [0.61901959],\n",
       "       [0.60731681],\n",
       "       [0.60055117],\n",
       "       [0.59917973],\n",
       "       [0.56206   ],\n",
       "       [0.55721433],\n",
       "       [0.55620861],\n",
       "       [0.5465172 ],\n",
       "       [0.51159172],\n",
       "       [0.54395723],\n",
       "       [0.55163722],\n",
       "       [0.56882565],\n",
       "       [0.58308839],\n",
       "       [0.58372839],\n",
       "       [0.56599141],\n",
       "       [0.58317984],\n",
       "       [0.57476848],\n",
       "       [0.57202562],\n",
       "       [0.57897416],\n",
       "       [0.56608278],\n",
       "       [0.55886003],\n",
       "       [0.54734009],\n",
       "       [0.58107703],\n",
       "       [0.56772849],\n",
       "       [0.56882565],\n",
       "       [0.55419719],\n",
       "       [0.54642582],\n",
       "       [0.51890598],\n",
       "       [0.51671173],\n",
       "       [0.50875748],\n",
       "       [0.51744311],\n",
       "       [0.48900907],\n",
       "       [0.47410627],\n",
       "       [0.47520343],\n",
       "       [0.47401482],\n",
       "       [0.48983189],\n",
       "       [0.47694051],\n",
       "       [0.47118057],\n",
       "       [0.48599193],\n",
       "       [0.47163774],\n",
       "       [0.43140942],\n",
       "       [0.4601178 ],\n",
       "       [0.41266666],\n",
       "       [0.39547822],\n",
       "       [0.39428968],\n",
       "       [0.39812964],\n",
       "       [0.41257528],\n",
       "       [0.41047241],\n",
       "       [0.3888954 ],\n",
       "       [0.37280406],\n",
       "       [0.3930097 ],\n",
       "       [0.36274699],\n",
       "       [0.38066687],\n",
       "       [0.39502105],\n",
       "       [0.42144374],\n",
       "       [0.40690672],\n",
       "       [0.37134125],\n",
       "       [0.35076995],\n",
       "       [0.35991275],\n",
       "       [0.37527265],\n",
       "       [0.36567268],\n",
       "       [0.36183273],\n",
       "       [0.36969554],\n",
       "       [0.37572975],\n",
       "       [0.34473567],\n",
       "       [0.35534135],\n",
       "       [0.37024408],\n",
       "       [0.35076995],\n",
       "       [0.35442708],\n",
       "       [0.36201556],\n",
       "       [0.37710118],\n",
       "       [0.39694103],\n",
       "       [0.37097552],\n",
       "       [0.37380977],\n",
       "       [0.37463266],\n",
       "       [0.3525071 ],\n",
       "       [0.37143269],\n",
       "       [0.38194685],\n",
       "       [0.37883834],\n",
       "       [0.38606116],\n",
       "       [0.41220956],\n",
       "       [0.41284955],\n",
       "       [0.42921517]])"
      ]
     },
     "execution_count": 19,
     "metadata": {},
     "output_type": "execute_result"
    }
   ],
   "source": [
    "dataset_train_n"
   ]
  },
  {
   "cell_type": "code",
   "execution_count": 20,
   "metadata": {
    "id": "SifStIG0qeNf"
   },
   "outputs": [],
   "source": [
    "from keras.models import Sequential, load_model\n",
    "from keras.layers import LSTM, Dense, Dropout\n"
   ]
  },
  {
   "cell_type": "markdown",
   "metadata": {
    "id": "WLZ3gksMkbcL"
   },
   "source": [
    "Scaling data:"
   ]
  },
  {
   "cell_type": "code",
   "execution_count": 21,
   "metadata": {
    "colab": {
     "base_uri": "https://localhost:8080/"
    },
    "id": "jOVxO2dtqfkt",
    "outputId": "2f606788-a1ca-4b54-84fd-a31b61044697"
   },
   "outputs": [
    {
     "data": {
      "text/plain": [
       "array([[0.52628268],\n",
       "       [0.51751258],\n",
       "       [0.528688  ],\n",
       "       [0.53640345],\n",
       "       [0.50365417]])"
      ]
     },
     "execution_count": 21,
     "metadata": {},
     "output_type": "execute_result"
    }
   ],
   "source": [
    "scaler = MinMaxScaler(feature_range=(0,1))\n",
    "dataset_train = scaler.fit_transform(dataset_train)\n",
    "dataset_train[:5]"
   ]
  },
  {
   "cell_type": "code",
   "execution_count": 22,
   "metadata": {
    "colab": {
     "base_uri": "https://localhost:8080/"
    },
    "id": "gOBYOoPwqhU8",
    "outputId": "6eaeec81-8075-4699-8ecd-512288abfc60"
   },
   "outputs": [
    {
     "data": {
      "text/plain": [
       "array([[0.59681392],\n",
       "       [0.58593445],\n",
       "       [0.58710015],\n",
       "       [0.58774767],\n",
       "       [0.60186506]])"
      ]
     },
     "execution_count": 22,
     "metadata": {},
     "output_type": "execute_result"
    }
   ],
   "source": [
    "dataset_test = scaler.transform(dataset_test)\n",
    "dataset_test[:5]"
   ]
  },
  {
   "cell_type": "code",
   "execution_count": 23,
   "metadata": {
    "id": "VhijBfE6qilr"
   },
   "outputs": [],
   "source": [
    "def create_dataset(df):\n",
    "    x = []\n",
    "    y = []\n",
    "    for i in range(30, df.shape[0]):\n",
    "        x.append(df[i-30:i,0])\n",
    "        y.append(df[i,0])\n",
    "    x = np.array(x)\n",
    "    y = np.array(y)\n",
    "    return x,y "
   ]
  },
  {
   "cell_type": "markdown",
   "metadata": {
    "id": "OsVjlf9kkkJd"
   },
   "source": [
    "Creating training and testing datasets:"
   ]
  },
  {
   "cell_type": "code",
   "execution_count": 24,
   "metadata": {
    "id": "GTXlAaGeqkJu"
   },
   "outputs": [],
   "source": [
    "x_train, y_train = create_dataset(dataset_train)\n",
    "x_test, y_test = create_dataset(dataset_test)"
   ]
  },
  {
   "cell_type": "code",
   "execution_count": 25,
   "metadata": {},
   "outputs": [
    {
     "data": {
      "text/plain": [
       "(array([0.52628268, 0.51751258, 0.528688  , 0.53640345, 0.50365417,\n",
       "        0.49967624, 0.51669845, 0.54110313, 0.55646014, 0.57218721,\n",
       "        0.57612819, 0.57647976, 0.57018889, 0.57276072, 0.55555352,\n",
       "        0.52363684, 0.50816877, 0.53803171, 0.51172131, 0.49745589,\n",
       "        0.50100835, 0.51976978, 0.51116618, 0.48487426, 0.45819382,\n",
       "        0.45390125, 0.46326344, 0.43956182, 0.44254075, 0.45188446]),\n",
       " 0.47969356922281525)"
      ]
     },
     "execution_count": 25,
     "metadata": {},
     "output_type": "execute_result"
    }
   ],
   "source": [
    "x_train[0],y_train[0]"
   ]
  },
  {
   "cell_type": "code",
   "execution_count": 26,
   "metadata": {},
   "outputs": [
    {
     "data": {
      "text/plain": [
       "((850, 30), (348, 30))"
      ]
     },
     "execution_count": 26,
     "metadata": {},
     "output_type": "execute_result"
    }
   ],
   "source": [
    "x_train.shape,x_test.shape"
   ]
  },
  {
   "cell_type": "markdown",
   "metadata": {
    "id": "eyHweGaykp-o"
   },
   "source": [
    "Creating our LSTM model:"
   ]
  },
  {
   "cell_type": "code",
   "execution_count": 27,
   "metadata": {
    "id": "OYSeOZLpqlYG"
   },
   "outputs": [],
   "source": [
    "model = Sequential()\n",
    "model.add(LSTM(units=100, return_sequences=True, input_shape=(x_train.shape[1], 1)))\n",
    "model.add(Dropout(0.2))\n",
    "model.add(LSTM(units=100, return_sequences=True))\n",
    "model.add(Dropout(0.2))\n",
    "model.add(LSTM(units=100, return_sequences=True))\n",
    "model.add(Dropout(0.2))\n",
    "model.add(LSTM(units=15))\n",
    "model.add(Dense(units=1))\n",
    "\n",
    "#model.add(tf.keras.layers.Reshape((1, 1)))\n",
    "#model.add(Dropout(0.2))\n",
    "#cluster_state_dual = tfq.layers.AddCircuit()(\n",
    "#    excitation_input_dual, prepend=cluster_state_circuit(cluster_state_bits))\n",
    "\n",
    "#quantum_model_dual =tfq.layers.PQC(model_circuit, model_readout)\n",
    "#d1_dual = tf.keras.layers.Dense(1)(tfq.convert_to_tensor([quantum_model_dual]))\n",
    "\n",
    "#d2_dual = tf.keras.layers.Dense(1)(d1_dual)\n",
    "#circuit_tensor = tfq.convert_to_tensor([quantum_model_dual])\n",
    "#model.add(circuit_tensor)\n",
    "\n",
    "#hybrid_model = tf.keras.Model(inputs=[excitation_input_dual], outputs=[d2_dual])\n",
    "#model.add(quantum_model_dual)\n",
    "\n",
    "#model.add(Dense(units=10))\n",
    "#d1_dual = tf.keras.layers.Dense(1)(quantum_model_dual)\n",
    "#model.add(Dropout(0.2))\n",
    "#model.add(Dense(units=10))\n"
   ]
  },
  {
   "cell_type": "markdown",
   "metadata": {
    "id": "DI7acZOgkxxx"
   },
   "source": [
    "Reshape features for the LSTM layer:"
   ]
  },
  {
   "cell_type": "code",
   "execution_count": 28,
   "metadata": {
    "id": "PiKmWbHNqmqI"
   },
   "outputs": [],
   "source": [
    "x_train = np.reshape(x_train, (x_train.shape[0], x_train.shape[1], 1))\n",
    "x_test = np.reshape(x_test, (x_test.shape[0], x_test.shape[1], 1))"
   ]
  },
  {
   "cell_type": "code",
   "execution_count": 29,
   "metadata": {
    "id": "44ci17U6qoD8"
   },
   "outputs": [],
   "source": [
    "model.compile(loss='mean_squared_error', optimizer='adam')"
   ]
  },
  {
   "cell_type": "markdown",
   "metadata": {
    "id": "W3IkxLMflKwP"
   },
   "source": [
    "Start the training:"
   ]
  },
  {
   "cell_type": "code",
   "execution_count": 30,
   "metadata": {
    "colab": {
     "base_uri": "https://localhost:8080/"
    },
    "id": "vo6cTmcsqpND",
    "outputId": "3a818926-e087-422c-c1d0-924e72268bf6"
   },
   "outputs": [
    {
     "name": "stdout",
     "output_type": "stream",
     "text": [
      "Epoch 1/100\n",
      "27/27 [==============================] - 5s 42ms/step - loss: 0.0441\n",
      "Epoch 2/100\n",
      "27/27 [==============================] - 1s 36ms/step - loss: 0.0064\n",
      "Epoch 3/100\n",
      "27/27 [==============================] - 1s 45ms/step - loss: 0.0046\n",
      "Epoch 4/100\n",
      "27/27 [==============================] - 1s 37ms/step - loss: 0.0042\n",
      "Epoch 5/100\n",
      "27/27 [==============================] - 1s 37ms/step - loss: 0.0039\n",
      "Epoch 6/100\n",
      "27/27 [==============================] - 1s 38ms/step - loss: 0.0041\n",
      "Epoch 7/100\n",
      "27/27 [==============================] - 1s 42ms/step - loss: 0.0038\n",
      "Epoch 8/100\n",
      "27/27 [==============================] - 1s 37ms/step - loss: 0.0039\n",
      "Epoch 9/100\n",
      "27/27 [==============================] - 1s 40ms/step - loss: 0.0038\n",
      "Epoch 10/100\n",
      "27/27 [==============================] - 1s 39ms/step - loss: 0.0034\n",
      "Epoch 11/100\n",
      "27/27 [==============================] - 1s 39ms/step - loss: 0.0031\n",
      "Epoch 12/100\n",
      "27/27 [==============================] - 1s 39ms/step - loss: 0.0029\n",
      "Epoch 13/100\n",
      "27/27 [==============================] - 1s 40ms/step - loss: 0.0027\n",
      "Epoch 14/100\n",
      "27/27 [==============================] - 1s 38ms/step - loss: 0.0027\n",
      "Epoch 15/100\n",
      "27/27 [==============================] - 1s 39ms/step - loss: 0.0030\n",
      "Epoch 16/100\n",
      "27/27 [==============================] - 1s 36ms/step - loss: 0.0026\n",
      "Epoch 17/100\n",
      "27/27 [==============================] - 1s 35ms/step - loss: 0.0026\n",
      "Epoch 18/100\n",
      "27/27 [==============================] - 1s 37ms/step - loss: 0.0026\n",
      "Epoch 19/100\n",
      "27/27 [==============================] - 1s 37ms/step - loss: 0.0026\n",
      "Epoch 20/100\n",
      "27/27 [==============================] - 1s 39ms/step - loss: 0.0025\n",
      "Epoch 21/100\n",
      "27/27 [==============================] - 1s 42ms/step - loss: 0.0025\n",
      "Epoch 22/100\n",
      "27/27 [==============================] - 1s 43ms/step - loss: 0.0025\n",
      "Epoch 23/100\n",
      "27/27 [==============================] - 1s 38ms/step - loss: 0.0026\n",
      "Epoch 24/100\n",
      "27/27 [==============================] - 1s 46ms/step - loss: 0.0022\n",
      "Epoch 25/100\n",
      "27/27 [==============================] - 1s 45ms/step - loss: 0.0023\n",
      "Epoch 26/100\n",
      "27/27 [==============================] - 1s 38ms/step - loss: 0.0024\n",
      "Epoch 27/100\n",
      "27/27 [==============================] - 1s 35ms/step - loss: 0.0027\n",
      "Epoch 28/100\n",
      "27/27 [==============================] - 1s 36ms/step - loss: 0.0023\n",
      "Epoch 29/100\n",
      "27/27 [==============================] - 1s 38ms/step - loss: 0.0028\n",
      "Epoch 30/100\n",
      "27/27 [==============================] - 1s 36ms/step - loss: 0.0023\n",
      "Epoch 31/100\n",
      "27/27 [==============================] - 1s 35ms/step - loss: 0.0022\n",
      "Epoch 32/100\n",
      "27/27 [==============================] - 1s 37ms/step - loss: 0.0021\n",
      "Epoch 33/100\n",
      "27/27 [==============================] - 1s 37ms/step - loss: 0.0019\n",
      "Epoch 34/100\n",
      "27/27 [==============================] - 1s 37ms/step - loss: 0.0019\n",
      "Epoch 35/100\n",
      "27/27 [==============================] - 1s 35ms/step - loss: 0.0022\n",
      "Epoch 36/100\n",
      "27/27 [==============================] - 1s 35ms/step - loss: 0.0020\n",
      "Epoch 37/100\n",
      "27/27 [==============================] - 1s 36ms/step - loss: 0.0019\n",
      "Epoch 38/100\n",
      "27/27 [==============================] - 1s 37ms/step - loss: 0.0018\n",
      "Epoch 39/100\n",
      "27/27 [==============================] - 1s 38ms/step - loss: 0.0021\n",
      "Epoch 40/100\n",
      "27/27 [==============================] - 1s 37ms/step - loss: 0.0019\n",
      "Epoch 41/100\n",
      "27/27 [==============================] - 1s 37ms/step - loss: 0.0019\n",
      "Epoch 42/100\n",
      "27/27 [==============================] - 1s 39ms/step - loss: 0.0018\n",
      "Epoch 43/100\n",
      "27/27 [==============================] - 1s 38ms/step - loss: 0.0022\n",
      "Epoch 44/100\n",
      "27/27 [==============================] - 1s 39ms/step - loss: 0.0019\n",
      "Epoch 45/100\n",
      "27/27 [==============================] - 1s 38ms/step - loss: 0.0018\n",
      "Epoch 46/100\n",
      "27/27 [==============================] - 1s 35ms/step - loss: 0.0016\n",
      "Epoch 47/100\n",
      "27/27 [==============================] - 1s 39ms/step - loss: 0.0017\n",
      "Epoch 48/100\n",
      "27/27 [==============================] - 1s 35ms/step - loss: 0.0016\n",
      "Epoch 49/100\n",
      "27/27 [==============================] - 1s 37ms/step - loss: 0.0018\n",
      "Epoch 50/100\n",
      "27/27 [==============================] - 1s 39ms/step - loss: 0.0018\n",
      "Epoch 51/100\n",
      "27/27 [==============================] - 1s 37ms/step - loss: 0.0016\n",
      "Epoch 52/100\n",
      "27/27 [==============================] - 1s 36ms/step - loss: 0.0017\n",
      "Epoch 53/100\n",
      "27/27 [==============================] - 1s 38ms/step - loss: 0.0017\n",
      "Epoch 54/100\n",
      "27/27 [==============================] - 1s 35ms/step - loss: 0.0015\n",
      "Epoch 55/100\n",
      "27/27 [==============================] - 1s 34ms/step - loss: 0.0015\n",
      "Epoch 56/100\n",
      "27/27 [==============================] - 1s 40ms/step - loss: 0.0015\n",
      "Epoch 57/100\n",
      "27/27 [==============================] - 1s 37ms/step - loss: 0.0013\n",
      "Epoch 58/100\n",
      "27/27 [==============================] - 1s 37ms/step - loss: 0.0014\n",
      "Epoch 59/100\n",
      "27/27 [==============================] - 1s 37ms/step - loss: 0.0013\n",
      "Epoch 60/100\n",
      "27/27 [==============================] - 1s 36ms/step - loss: 0.0014\n",
      "Epoch 61/100\n",
      "27/27 [==============================] - 1s 36ms/step - loss: 0.0013\n",
      "Epoch 62/100\n",
      "27/27 [==============================] - 1s 36ms/step - loss: 0.0013\n",
      "Epoch 63/100\n",
      "27/27 [==============================] - 1s 38ms/step - loss: 0.0012\n",
      "Epoch 64/100\n",
      "27/27 [==============================] - 1s 39ms/step - loss: 0.0013\n",
      "Epoch 65/100\n",
      "27/27 [==============================] - 1s 38ms/step - loss: 0.0012\n",
      "Epoch 66/100\n",
      "27/27 [==============================] - 1s 39ms/step - loss: 0.0013\n",
      "Epoch 67/100\n",
      "27/27 [==============================] - 1s 37ms/step - loss: 0.0012\n",
      "Epoch 68/100\n",
      "27/27 [==============================] - 1s 38ms/step - loss: 0.0013\n",
      "Epoch 69/100\n",
      "27/27 [==============================] - 1s 35ms/step - loss: 0.0013\n",
      "Epoch 70/100\n",
      "27/27 [==============================] - 1s 36ms/step - loss: 0.0011\n",
      "Epoch 71/100\n",
      "27/27 [==============================] - 1s 37ms/step - loss: 0.0013\n",
      "Epoch 72/100\n",
      "27/27 [==============================] - 1s 36ms/step - loss: 0.0015\n",
      "Epoch 73/100\n",
      "27/27 [==============================] - 1s 35ms/step - loss: 0.0013\n",
      "Epoch 74/100\n",
      "27/27 [==============================] - 1s 37ms/step - loss: 0.0011\n",
      "Epoch 75/100\n",
      "27/27 [==============================] - 1s 36ms/step - loss: 0.0011\n",
      "Epoch 76/100\n",
      "27/27 [==============================] - 1s 36ms/step - loss: 0.0015\n",
      "Epoch 77/100\n",
      "27/27 [==============================] - 1s 35ms/step - loss: 0.0012\n",
      "Epoch 78/100\n",
      "27/27 [==============================] - 1s 38ms/step - loss: 0.0011\n",
      "Epoch 79/100\n",
      "27/27 [==============================] - 1s 38ms/step - loss: 0.0012\n",
      "Epoch 80/100\n",
      "27/27 [==============================] - 1s 43ms/step - loss: 0.0011\n",
      "Epoch 81/100\n",
      "27/27 [==============================] - 1s 35ms/step - loss: 0.0011\n",
      "Epoch 82/100\n",
      "27/27 [==============================] - 1s 34ms/step - loss: 9.9597e-04\n",
      "Epoch 83/100\n",
      "27/27 [==============================] - 1s 37ms/step - loss: 0.0011\n",
      "Epoch 84/100\n",
      "27/27 [==============================] - 1s 34ms/step - loss: 0.0012\n",
      "Epoch 85/100\n",
      "27/27 [==============================] - 1s 35ms/step - loss: 0.0014\n",
      "Epoch 86/100\n",
      "27/27 [==============================] - 1s 36ms/step - loss: 0.0010\n",
      "Epoch 87/100\n",
      "27/27 [==============================] - 1s 37ms/step - loss: 0.0010\n",
      "Epoch 88/100\n",
      "27/27 [==============================] - 1s 36ms/step - loss: 0.0013\n",
      "Epoch 89/100\n",
      "27/27 [==============================] - 1s 38ms/step - loss: 0.0010\n",
      "Epoch 90/100\n",
      "27/27 [==============================] - 1s 36ms/step - loss: 0.0011\n",
      "Epoch 91/100\n",
      "27/27 [==============================] - 1s 40ms/step - loss: 9.4431e-04\n",
      "Epoch 92/100\n",
      "27/27 [==============================] - 1s 37ms/step - loss: 9.4379e-04\n",
      "Epoch 93/100\n",
      "27/27 [==============================] - 1s 34ms/step - loss: 9.2083e-04\n",
      "Epoch 94/100\n",
      "27/27 [==============================] - 1s 36ms/step - loss: 9.3237e-04\n",
      "Epoch 95/100\n",
      "27/27 [==============================] - 1s 38ms/step - loss: 0.0011\n",
      "Epoch 96/100\n",
      "27/27 [==============================] - 1s 39ms/step - loss: 9.4873e-04\n",
      "Epoch 97/100\n",
      "27/27 [==============================] - 1s 37ms/step - loss: 8.0260e-04\n",
      "Epoch 98/100\n",
      "27/27 [==============================] - 1s 39ms/step - loss: 8.8057e-04\n",
      "Epoch 99/100\n",
      "27/27 [==============================] - 1s 38ms/step - loss: 8.9842e-04\n",
      "Epoch 100/100\n"
     ]
    },
    {
     "name": "stdout",
     "output_type": "stream",
     "text": [
      "27/27 [==============================] - 1s 36ms/step - loss: 8.6000e-04\n"
     ]
    },
    {
     "data": {
      "text/plain": [
       "<keras.callbacks.History at 0x7f61c01a1d30>"
      ]
     },
     "execution_count": 30,
     "metadata": {},
     "output_type": "execute_result"
    }
   ],
   "source": [
    "model.fit(x_train, y_train, epochs=100, batch_size=32)"
   ]
  },
  {
   "cell_type": "markdown",
   "metadata": {
    "id": "lcjQocoRlO2J"
   },
   "source": [
    "## **Results visualization**"
   ]
  },
  {
   "cell_type": "code",
   "execution_count": 31,
   "metadata": {
    "colab": {
     "base_uri": "https://localhost:8080/",
     "height": 500
    },
    "id": "qBduTqNBso4K",
    "outputId": "dd011fee-cd38-4395-ad29-10ad5391386d"
   },
   "outputs": [
    {
     "data": {
      "text/plain": [
       "<matplotlib.legend.Legend at 0x7f617cd075b0>"
      ]
     },
     "execution_count": 31,
     "metadata": {},
     "output_type": "execute_result"
    },
    {
     "data": {
      "image/png": "[encoded data removed]",
      "text/plain": [
       "<Figure size 1152x576 with 1 Axes>"
      ]
     },
     "metadata": {
      "needs_background": "light"
     },
     "output_type": "display_data"
    }
   ],
   "source": [
    "predictions_test = model.predict(x_test)\n",
    "#predictions = scaler.inverse_transform(predictions)\n",
    "#y_test_scaled = scaler.inverse_transform(y_test.reshape(-1, 1))\n",
    "\n",
    "fig, ax = plt.subplots(figsize=(16,8))\n",
    "ax.set_facecolor('#000041')\n",
    "ax.plot(y_test, color='red', label='Original price')\n",
    "plt.plot(predictions_test, color='cyan', label='Predicted price')\n",
    "plt.legend()"
   ]
  },
  {
   "cell_type": "code",
   "execution_count": 32,
   "metadata": {},
   "outputs": [
    {
     "data": {
      "text/plain": [
       "<matplotlib.legend.Legend at 0x7f61646cf310>"
      ]
     },
     "execution_count": 32,
     "metadata": {},
     "output_type": "execute_result"
    },
    {
     "data": {
      "image/png": "[encoded data removed]",
      "text/plain": [
       "<Figure size 1152x576 with 1 Axes>"
      ]
     },
     "metadata": {
      "needs_background": "light"
     },
     "output_type": "display_data"
    }
   ],
   "source": [
    "predictions_train = model.predict(x_train)\n",
    "#predictions = scaler.inverse_transform(predictions)\n",
    "#y_test_scaled = scaler.inverse_transform(y_test.reshape(-1, 1))\n",
    "\n",
    "fig, ax = plt.subplots(figsize=(16,8))\n",
    "ax.set_facecolor('#000041')\n",
    "ax.plot(y_train, color='red', label='Original price')\n",
    "plt.plot(predictions_train, color='cyan', label='Predicted price')\n",
    "plt.legend()"
   ]
  },
  {
   "cell_type": "markdown",
   "metadata": {},
   "source": [
    "# Convert classical data to Quantum circuit"
   ]
  },
  {
   "cell_type": "code",
   "execution_count": 33,
   "metadata": {},
   "outputs": [
    {
     "name": "stderr",
     "output_type": "stream",
     "text": [
      "findfont: Font family ['Arial'] not found. Falling back to DejaVu Sans.\n"
     ]
    },
    {
     "data": {
      "image/svg+xml": [
       "<svg xmlns=\"http://www.w3.org/2000/svg\" width=\"204.17421875000002\" height=\"50.0\"><line x1=\"34.7588671875\" x2=\"174.17421875000002\" y1=\"25.0\" y2=\"25.0\" stroke=\"#1967d2\" stroke-width=\"1\" /><rect x=\"10.0\" y=\"5.0\" width=\"49.517734375\" height=\"40\" stroke=\"black\" fill=\"white\" stroke-width=\"0\" /><text x=\"34.7588671875\" y=\"25.0\" dominant-baseline=\"middle\" text-anchor=\"middle\" font-size=\"14px\" font-family=\"Arial\">(0, 0): </text><rect x=\"79.517734375\" y=\"5.0\" width=\"74.656484375\" height=\"40\" stroke=\"black\" fill=\"white\" stroke-width=\"1\" /><text x=\"116.8459765625\" y=\"25.0\" dominant-baseline=\"middle\" text-anchor=\"middle\" font-size=\"14px\" font-family=\"Arial\">Y^-0.634</text></svg>"
      ],
      "text/plain": [
       "<cirq.contrib.svg.svg.SVGCircuit at 0x7f615877ab50>"
      ]
     },
     "execution_count": 33,
     "metadata": {},
     "output_type": "execute_result"
    }
   ],
   "source": [
    "def convert_to_circuit(image):\n",
    "    \"\"\"Encode truncated classical image into quantum datapoint.\"\"\"\n",
    "    #values = np.ndarray.flatten(image)\n",
    "    qubits = cirq.GridQubit.rect(1, 1)\n",
    "    circuit = cirq.Circuit()\n",
    "   # print(qubits)\n",
    "    #for i, value in enumerate(image):\n",
    "    circuit.append(cirq.Y(qubits[0])**(np.pi*image[0]))\n",
    "    return circuit\n",
    "x_train_circ = [convert_to_circuit(x) for x in predictions_train]\n",
    "x_test_circ = [convert_to_circuit(x) for x in predictions_test]\n",
    "x_train_tfcirc_1 = tfq.convert_to_tensor(x_train_circ)\n",
    "x_test_tfcirc_1 = tfq.convert_to_tensor(x_test_circ)\n",
    "SVGCircuit(x_train_circ[0])"
   ]
  },
  {
   "cell_type": "markdown",
   "metadata": {},
   "source": [
    "# Design the ansatz"
   ]
  },
  {
   "cell_type": "code",
   "execution_count": 34,
   "metadata": {},
   "outputs": [],
   "source": [
    "class CircuitLayerBuilder():\n",
    "    def __init__(self, data_qubits, readout):\n",
    "        self.data_qubits = data_qubits\n",
    "        self.readout = readout\n",
    "\n",
    "    def add_layer(self, circuit, gate, prefix):\n",
    "        \n",
    "        for i, qubit in enumerate(self.data_qubits):\n",
    "            symbol = sympy.Symbol(prefix + '-' + str(i))\n",
    "            #circuit.append(gate(qubit, self.readout)**symbol)\n",
    "            circuit.append(gate(self.readout)**symbol)\n"
   ]
  },
  {
   "cell_type": "code",
   "execution_count": 35,
   "metadata": {},
   "outputs": [
    {
     "data": {
      "image/svg+xml": [
       "<svg xmlns=\"http://www.w3.org/2000/svg\" width=\"474.132734375\" height=\"50.0\"><line x1=\"34.7588671875\" x2=\"444.132734375\" y1=\"25.0\" y2=\"25.0\" stroke=\"#1967d2\" stroke-width=\"1\" /><rect x=\"10.0\" y=\"5.0\" width=\"49.517734375\" height=\"40\" stroke=\"black\" fill=\"white\" stroke-width=\"0\" /><text x=\"34.7588671875\" y=\"25.0\" dominant-baseline=\"middle\" text-anchor=\"middle\" font-size=\"14px\" font-family=\"Arial\">(0, 0): </text><rect x=\"79.517734375\" y=\"5.0\" width=\"71.15375\" height=\"40\" stroke=\"black\" fill=\"white\" stroke-width=\"1\" /><text x=\"115.094609375\" y=\"25.0\" dominant-baseline=\"middle\" text-anchor=\"middle\" font-size=\"14px\" font-family=\"Arial\">X^(xx-0)</text><rect x=\"170.671484375\" y=\"5.0\" width=\"71.15375\" height=\"40\" stroke=\"black\" fill=\"white\" stroke-width=\"1\" /><text x=\"206.248359375\" y=\"25.0\" dominant-baseline=\"middle\" text-anchor=\"middle\" font-size=\"14px\" font-family=\"Arial\">X^(xx-1)</text><rect x=\"261.82523437500004\" y=\"5.0\" width=\"71.15375\" height=\"40\" stroke=\"black\" fill=\"white\" stroke-width=\"1\" /><text x=\"297.402109375\" y=\"25.0\" dominant-baseline=\"middle\" text-anchor=\"middle\" font-size=\"14px\" font-family=\"Arial\">X^(xx-2)</text><rect x=\"352.978984375\" y=\"5.0\" width=\"71.15375\" height=\"40\" stroke=\"black\" fill=\"white\" stroke-width=\"1\" /><text x=\"388.55585937499995\" y=\"25.0\" dominant-baseline=\"middle\" text-anchor=\"middle\" font-size=\"14px\" font-family=\"Arial\">X^(xx-3)</text></svg>"
      ],
      "text/plain": [
       "<cirq.contrib.svg.svg.SVGCircuit at 0x7f617cb74b20>"
      ]
     },
     "execution_count": 35,
     "metadata": {},
     "output_type": "execute_result"
    }
   ],
   "source": [
    "demo_builder = CircuitLayerBuilder(data_qubits = cirq.GridQubit.rect(1,4),\n",
    "                                   readout=cirq.GridQubit(0,0))\n",
    "\n",
    "circuit = cirq.Circuit()\n",
    "demo_builder.add_layer(circuit, gate = cirq.X, prefix='xx')\n",
    "SVGCircuit(circuit)\n"
   ]
  },
  {
   "cell_type": "markdown",
   "metadata": {},
   "source": [
    "# Build the quantum circuit"
   ]
  },
  {
   "cell_type": "code",
   "execution_count": 36,
   "metadata": {},
   "outputs": [],
   "source": [
    "def create_quantum_model():\n",
    "    \"\"\"Create a QNN model circuit and readout operation to go along with it.\"\"\"\n",
    "    data_qubits = cirq.GridQubit.rect(1, 1)  # a 1x1 grid.\n",
    "    readout = cirq.GridQubit(0, 0)         # a single qubit at [-1,-1]\n",
    "    circuit = cirq.Circuit()\n",
    "\n",
    "    # Prepare the readout qubit.\n",
    "    #circuit.append(cirq.X(readout))\n",
    "    #circuit.append(cirq.H(readout))\n",
    "\n",
    "    builder = CircuitLayerBuilder(\n",
    "        data_qubits = data_qubits,\n",
    "        readout=readout)\n",
    "\n",
    "    # Then add layers (experiment by adding more).\n",
    "    builder.add_layer(circuit, cirq.Y, \"xx1\")\n",
    "    #builder.add_layer(circuit, cirq.Z, \"zz1\")\n",
    "    #builder.add_layer(circuit, cirq.X, \"xx2\")\n",
    "    # Finally, prepare the readout qubit.\n",
    "    #circuit.append(cirq.H(readout))\n",
    "\n",
    "    return circuit, cirq.Z(readout)\n"
   ]
  },
  {
   "cell_type": "code",
   "execution_count": 37,
   "metadata": {},
   "outputs": [],
   "source": [
    "model_circuit, model_readout = create_quantum_model()\n"
   ]
  },
  {
   "cell_type": "markdown",
   "metadata": {},
   "source": [
    "## use the result of the classical to train the quantum circuit"
   ]
  },
  {
   "cell_type": "code",
   "execution_count": 38,
   "metadata": {},
   "outputs": [],
   "source": [
    "# Build the Keras model.\n",
    "model = tf.keras.Sequential([\n",
    "    # The input is the data-circuit, encoded as a tf.string\n",
    "    tf.keras.layers.Input(shape=(), dtype=tf.string),\n",
    "    # The PQC layer returns the expected value of the readout gate, range [-1,1].\n",
    "    tfq.layers.PQC(model_circuit, model_readout),\n",
    "    tf.keras.layers.Reshape((1,1)),\n",
    "\n",
    "    #tf.keras.layers.Dense(units=10, activation='relu'),\n",
    "    #tf.keras.layers.LSTM(units=1, return_sequences=True),\n",
    "    tf.keras.layers.Dense(units=1, activation='relu'),\n",
    "\n",
    "])\n"
   ]
  },
  {
   "cell_type": "code",
   "execution_count": 39,
   "metadata": {},
   "outputs": [],
   "source": [
    "model.compile(loss='mean_squared_error', optimizer='adam')"
   ]
  },
  {
   "cell_type": "code",
   "execution_count": 40,
   "metadata": {},
   "outputs": [
    {
     "name": "stdout",
     "output_type": "stream",
     "text": [
      "Model: \"sequential_1\"\n",
      "_________________________________________________________________\n",
      " Layer (type)                Output Shape              Param #   \n",
      "=================================================================\n",
      " pqc (PQC)                   (None, 1)                 1         \n",
      "                                                                 \n",
      " reshape (Reshape)           (None, 1, 1)              0         \n",
      "                                                                 \n",
      " dense_1 (Dense)             (None, 1, 1)              2         \n",
      "                                                                 \n",
      "=================================================================\n",
      "Total params: 3\n",
      "Trainable params: 3\n",
      "Non-trainable params: 0\n",
      "_________________________________________________________________\n",
      "None\n"
     ]
    }
   ],
   "source": [
    "print(model.summary())\n"
   ]
  },
  {
   "cell_type": "code",
   "execution_count": 43,
   "metadata": {
    "scrolled": true
   },
   "outputs": [
    {
     "name": "stdout",
     "output_type": "stream",
     "text": [
      "Epoch 1/50\n",
      "27/27 [==============================] - 0s 4ms/step - loss: 0.0859\n",
      "Epoch 2/50\n",
      "27/27 [==============================] - 0s 5ms/step - loss: 0.0854\n",
      "Epoch 3/50\n",
      "27/27 [==============================] - 0s 4ms/step - loss: 0.0850\n",
      "Epoch 4/50\n",
      "27/27 [==============================] - 0s 4ms/step - loss: 0.0849\n",
      "Epoch 5/50\n",
      "27/27 [==============================] - 0s 4ms/step - loss: 0.0848\n",
      "Epoch 6/50\n",
      "27/27 [==============================] - 0s 4ms/step - loss: 0.0848\n",
      "Epoch 7/50\n",
      "27/27 [==============================] - 0s 4ms/step - loss: 0.0847\n",
      "Epoch 8/50\n",
      "27/27 [==============================] - 0s 4ms/step - loss: 0.0847\n",
      "Epoch 9/50\n",
      "27/27 [==============================] - 0s 4ms/step - loss: 0.0846\n",
      "Epoch 10/50\n",
      "27/27 [==============================] - 0s 5ms/step - loss: 0.0847\n",
      "Epoch 11/50\n",
      "27/27 [==============================] - 0s 3ms/step - loss: 0.0847\n",
      "Epoch 12/50\n",
      "27/27 [==============================] - 0s 3ms/step - loss: 0.0846\n",
      "Epoch 13/50\n",
      "27/27 [==============================] - 0s 4ms/step - loss: 0.0847\n",
      "Epoch 14/50\n",
      "27/27 [==============================] - 0s 4ms/step - loss: 0.0846\n",
      "Epoch 15/50\n",
      "27/27 [==============================] - 0s 3ms/step - loss: 0.0846\n",
      "Epoch 16/50\n",
      "27/27 [==============================] - 0s 4ms/step - loss: 0.0846\n",
      "Epoch 17/50\n",
      "27/27 [==============================] - 0s 4ms/step - loss: 0.0846\n",
      "Epoch 18/50\n",
      "27/27 [==============================] - 0s 4ms/step - loss: 0.0847\n",
      "Epoch 19/50\n",
      "27/27 [==============================] - 0s 4ms/step - loss: 0.0846\n",
      "Epoch 20/50\n",
      "27/27 [==============================] - 0s 4ms/step - loss: 0.0847\n",
      "Epoch 21/50\n",
      "27/27 [==============================] - 0s 4ms/step - loss: 0.0846\n",
      "Epoch 22/50\n",
      "27/27 [==============================] - 0s 4ms/step - loss: 0.0847\n",
      "Epoch 23/50\n",
      "27/27 [==============================] - 0s 4ms/step - loss: 0.0847\n",
      "Epoch 24/50\n",
      "27/27 [==============================] - 0s 4ms/step - loss: 0.0846\n",
      "Epoch 25/50\n",
      "27/27 [==============================] - 0s 4ms/step - loss: 0.0846\n",
      "Epoch 26/50\n",
      "27/27 [==============================] - 0s 3ms/step - loss: 0.0846\n",
      "Epoch 27/50\n",
      "27/27 [==============================] - 0s 3ms/step - loss: 0.0846\n",
      "Epoch 28/50\n",
      "27/27 [==============================] - 0s 5ms/step - loss: 0.0846\n",
      "Epoch 29/50\n",
      "27/27 [==============================] - 0s 4ms/step - loss: 0.0846\n",
      "Epoch 30/50\n",
      "27/27 [==============================] - 0s 4ms/step - loss: 0.0846\n",
      "Epoch 31/50\n",
      "27/27 [==============================] - 0s 4ms/step - loss: 0.0846\n",
      "Epoch 32/50\n",
      "27/27 [==============================] - 0s 3ms/step - loss: 0.0846\n",
      "Epoch 33/50\n",
      "27/27 [==============================] - 0s 4ms/step - loss: 0.0847\n",
      "Epoch 34/50\n",
      "27/27 [==============================] - 0s 5ms/step - loss: 0.0846\n",
      "Epoch 35/50\n",
      "27/27 [==============================] - 0s 4ms/step - loss: 0.0846\n",
      "Epoch 36/50\n",
      "27/27 [==============================] - 0s 5ms/step - loss: 0.0846\n",
      "Epoch 37/50\n",
      "27/27 [==============================] - 0s 5ms/step - loss: 0.0846\n",
      "Epoch 38/50\n",
      "27/27 [==============================] - 0s 4ms/step - loss: 0.0846\n",
      "Epoch 39/50\n",
      "27/27 [==============================] - 0s 4ms/step - loss: 0.0846\n",
      "Epoch 40/50\n",
      "27/27 [==============================] - 0s 5ms/step - loss: 0.0846\n",
      "Epoch 41/50\n",
      "27/27 [==============================] - 0s 4ms/step - loss: 0.0846\n",
      "Epoch 42/50\n",
      "27/27 [==============================] - 0s 4ms/step - loss: 0.0846\n",
      "Epoch 43/50\n",
      "27/27 [==============================] - 0s 4ms/step - loss: 0.0846\n",
      "Epoch 44/50\n",
      "27/27 [==============================] - 0s 4ms/step - loss: 0.0846\n",
      "Epoch 45/50\n",
      "27/27 [==============================] - 0s 3ms/step - loss: 0.0846\n",
      "Epoch 46/50\n",
      "27/27 [==============================] - 0s 3ms/step - loss: 0.0846\n",
      "Epoch 47/50\n",
      "27/27 [==============================] - 0s 4ms/step - loss: 0.0846\n",
      "Epoch 48/50\n",
      "27/27 [==============================] - 0s 4ms/step - loss: 0.0846\n",
      "Epoch 49/50\n",
      "27/27 [==============================] - 0s 4ms/step - loss: 0.0846\n",
      "Epoch 50/50\n",
      "27/27 [==============================] - 0s 4ms/step - loss: 0.0846\n"
     ]
    },
    {
     "data": {
      "text/plain": [
       "<keras.callbacks.History at 0x7f617c93a340>"
      ]
     },
     "execution_count": 43,
     "metadata": {},
     "output_type": "execute_result"
    }
   ],
   "source": [
    "model.fit(x_train_tfcirc_1, y_train, epochs=50, batch_size=32)"
   ]
  },
  {
   "cell_type": "code",
   "execution_count": 47,
   "metadata": {},
   "outputs": [
    {
     "data": {
      "text/plain": [
       "<matplotlib.legend.Legend at 0x7f617c6a1130>"
      ]
     },
     "execution_count": 47,
     "metadata": {},
     "output_type": "execute_result"
    },
    {
     "data": {
      "image/png": "[encoded data removed]",
      "text/plain": [
       "<Figure size 1152x576 with 1 Axes>"
      ]
     },
     "metadata": {
      "needs_background": "light"
     },
     "output_type": "display_data"
    }
   ],
   "source": [
    "predictions_train = model.predict(x_train_tfcirc_1)\n",
    "predictions_train = predictions_train.reshape(850,1)\n",
    "#predictions = scaler.inverse_transform(predictions)\n",
    "#y_test_scaled = scaler.inverse_transform(y_test.reshape(-1, 1))\n",
    "\n",
    "fig, ax = plt.subplots(figsize=(16,8))\n",
    "ax.set_facecolor('#000041')\n",
    "ax.plot(y_train, color='red', label='Original price')\n",
    "plt.plot(predictions_train, color='cyan', label='Predicted price')\n",
    "plt.legend()"
   ]
  }
 ],
 "metadata": {
  "colab": {
   "authorship_tag": "ABX9TyPVe0xJHFIRM8xqWAthKDQp",
   "include_colab_link": true,
   "name": "stock price predection.ipynb",
   "provenance": []
  },
  "kernelspec": {
   "display_name": "Python 3 (ipykernel)",
   "language": "python",
   "name": "python3"
  },
  "language_info": {
   "codemirror_mode": {
    "name": "ipython",
    "version": 3
   },
   "file_extension": ".py",
   "mimetype": "text/x-python",
   "name": "python",
   "nbconvert_exporter": "python",
   "pygments_lexer": "ipython3",
   "version": "3.8.8"
  }
 },
 "nbformat": 4,
 "nbformat_minor": 1
}
